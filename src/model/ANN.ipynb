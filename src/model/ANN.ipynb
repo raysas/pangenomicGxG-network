{
 "cells": [
  {
   "cell_type": "code",
   "execution_count": 1,
   "metadata": {},
   "outputs": [
    {
     "name": "stderr",
     "output_type": "stream",
     "text": [
      "2024-04-11 00:38:57.564348: I tensorflow/core/platform/cpu_feature_guard.cc:182] This TensorFlow binary is optimized to use available CPU instructions in performance-critical operations.\n",
      "To enable the following instructions: SSE4.1 SSE4.2 AVX AVX2 FMA, in other operations, rebuild TensorFlow with the appropriate compiler flags.\n"
     ]
    }
   ],
   "source": [
    "import tensorflow as tf\n",
    "import pandas as pd\n",
    "import numpy as np"
   ]
  },
  {
   "cell_type": "code",
   "execution_count": 3,
   "metadata": {},
   "outputs": [],
   "source": [
    "#generate some random data\n",
    "import numpy as np\n",
    "X = np.random.random((1000, 1000))\n",
    "y = np.random.randint(0, 2, 1000)"
   ]
  },
  {
   "cell_type": "code",
   "execution_count": 2,
   "metadata": {},
   "outputs": [],
   "source": [
    "#preparing the data\n",
    "\n",
    "X_df = pd.read_csv('../../data/presence_matrices/Campylobacter_coli_presence_absence.csv', index_col=0)\n",
    "y_df= pd.read_csv('../../data/phenotypes/Campylobacter_coli_ciprofloxacin.csv', index_col=0)\n",
    "\n",
    "\n",
    "X_df = X_df.sort_index()\n",
    "y_df = y_df.sort_index()\n",
    "\n",
    "y_indices=list(y_df.index)\n",
    "X_indices=list(X_df.index)\n",
    "\n",
    "#intersection\n",
    "intersection = [i for i in y_indices if i in X_indices]\n",
    "y_df = y_df.loc[intersection]\n",
    "X_df = X_df.loc[intersection]\n",
    "\n",
    "X = X_df.values\n",
    "y = y_df.values"
   ]
  },
  {
   "cell_type": "code",
   "execution_count": 3,
   "metadata": {},
   "outputs": [
    {
     "name": "stderr",
     "output_type": "stream",
     "text": [
      "2024-04-11 00:39:07.890417: I tensorflow/core/common_runtime/process_util.cc:146] Creating new thread pool with default inter op setting: 2. Tune using inter_op_parallelism_threads for best performance.\n"
     ]
    },
    {
     "name": "stdout",
     "output_type": "stream",
     "text": [
      "Epoch 1/10\n",
      "9/9 [==============================] - 9s 589ms/step - loss: 10.4190 - accuracy: 0.6105\n",
      "Epoch 2/10\n",
      "9/9 [==============================] - 5s 609ms/step - loss: 3.3985 - accuracy: 0.7528\n",
      "Epoch 3/10\n",
      "9/9 [==============================] - 5s 576ms/step - loss: 1.6419 - accuracy: 0.8015\n",
      "Epoch 4/10\n",
      "9/9 [==============================] - 5s 558ms/step - loss: 0.5512 - accuracy: 0.8277\n",
      "Epoch 5/10\n",
      "9/9 [==============================] - 5s 562ms/step - loss: 0.2817 - accuracy: 0.8764\n",
      "Epoch 6/10\n",
      "9/9 [==============================] - 5s 573ms/step - loss: 0.2195 - accuracy: 0.9026\n",
      "Epoch 7/10\n",
      "9/9 [==============================] - 5s 559ms/step - loss: 0.1685 - accuracy: 0.9251\n",
      "Epoch 8/10\n",
      "9/9 [==============================] - 5s 547ms/step - loss: 0.1502 - accuracy: 0.9176\n",
      "Epoch 9/10\n",
      "9/9 [==============================] - 5s 578ms/step - loss: 0.0998 - accuracy: 0.9775\n",
      "Epoch 10/10\n",
      "9/9 [==============================] - 5s 567ms/step - loss: 0.1013 - accuracy: 0.9625\n"
     ]
    },
    {
     "data": {
      "text/plain": [
       "<keras.callbacks.History at 0x7fb950e70d10>"
      ]
     },
     "execution_count": 3,
     "metadata": {},
     "output_type": "execute_result"
    }
   ],
   "source": [
    "#build a vanilla neural network that takes as inputs 1000 vector features\n",
    "#and outputs a single binary value\n",
    "\n",
    "#build the model\n",
    "model = tf.keras.models.Sequential([\n",
    "    tf.keras.layers.Dense(X.shape[1], activation='relu', input_shape=(X.shape[1],)),\n",
    "    tf.keras.layers.Dense(1, activation='sigmoid')\n",
    "])\n",
    "\n",
    "#compile the model\n",
    "model.compile(optimizer='adam',\n",
    "              loss='binary_crossentropy',\n",
    "              metrics=['accuracy'])\n",
    "\n",
    "#train the model\n",
    "model.fit(X, y, epochs=10, batch_size=32)"
   ]
  },
  {
   "cell_type": "code",
   "execution_count": 4,
   "metadata": {},
   "outputs": [],
   "source": [
    "weights = model.get_weights()"
   ]
  },
  {
   "cell_type": "code",
   "execution_count": 6,
   "metadata": {},
   "outputs": [
    {
     "data": {
      "text/plain": [
       "[array([[ 0.00902543, -0.0043931 ,  0.00673736, ..., -0.02381347,\n",
       "          0.0077692 , -0.00483729],\n",
       "        [-0.00937063, -0.01432302,  0.01316896, ...,  0.00273977,\n",
       "         -0.0127153 , -0.00193484],\n",
       "        [-0.02236633, -0.02701769,  0.01745652, ...,  0.0108552 ,\n",
       "          0.00556985, -0.00235236],\n",
       "        ...,\n",
       "        [ 0.01706709,  0.00168423,  0.00395518, ...,  0.01264294,\n",
       "          0.00602033, -0.0095194 ],\n",
       "        [ 0.01074206, -0.01042698, -0.00795635, ...,  0.00239265,\n",
       "          0.00662425,  0.0132366 ],\n",
       "        [ 0.01686734, -0.00767862, -0.00555196, ..., -0.01843196,\n",
       "          0.00045524, -0.00438922]], dtype=float32),\n",
       " array([-0.00541369, -0.00163097, -0.00596189, ..., -0.00599686,\n",
       "         0.        ,  0.        ], dtype=float32),\n",
       " array([[-2.0244168e-02],\n",
       "        [ 7.8427474e-05],\n",
       "        [ 2.1216610e-02],\n",
       "        ...,\n",
       "        [ 6.4173290e-03],\n",
       "        [-1.7455613e-02],\n",
       "        [ 2.5150208e-02]], dtype=float32),\n",
       " array([-0.0020129], dtype=float32)]"
      ]
     },
     "execution_count": 6,
     "metadata": {},
     "output_type": "execute_result"
    }
   ],
   "source": [
    "#make weights a df\n"
   ]
  },
  {
   "cell_type": "code",
   "execution_count": null,
   "metadata": {},
   "outputs": [],
   "source": [
    "np.max(weights[0])"
   ]
  },
  {
   "cell_type": "code",
   "execution_count": 4,
   "metadata": {},
   "outputs": [
    {
     "ename": "",
     "evalue": "",
     "output_type": "error",
     "traceback": [
      "\u001b[1;31mThe Kernel crashed while executing code in the current cell or a previous cell. \n",
      "\u001b[1;31mPlease review the code in the cell(s) to identify a possible cause of the failure. \n",
      "\u001b[1;31mClick <a href='https://aka.ms/vscodeJupyterKernelCrash'>here</a> for more info. \n",
      "\u001b[1;31mView Jupyter <a href='command:jupyter.viewOutput'>log</a> for further details."
     ]
    }
   ],
   "source": [
    "model.save('test_1_real_data.h5')\n",
    "\n",
    "# #get weights of the model\n",
    "#load the model\n",
    "# model=tf.keras.models.load_model('test_1_real_data.h5')\n",
    "# weights = model.get_weights()\n",
    "# print(np.max(weights[0]))"
   ]
  }
 ],
 "metadata": {
  "kernelspec": {
   "display_name": "base",
   "language": "python",
   "name": "python3"
  },
  "language_info": {
   "codemirror_mode": {
    "name": "ipython",
    "version": 3
   },
   "file_extension": ".py",
   "mimetype": "text/x-python",
   "name": "python",
   "nbconvert_exporter": "python",
   "pygments_lexer": "ipython3",
   "version": "3.11.5"
  }
 },
 "nbformat": 4,
 "nbformat_minor": 2
}
