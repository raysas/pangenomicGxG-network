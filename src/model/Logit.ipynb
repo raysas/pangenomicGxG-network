{
 "cells": [
  {
   "cell_type": "markdown",
   "metadata": {},
   "source": [
    "## Essentials"
   ]
  },
  {
   "cell_type": "code",
   "execution_count": 1,
   "metadata": {},
   "outputs": [],
   "source": [
    "drug='ciprofloxacin'"
   ]
  },
  {
   "cell_type": "code",
   "execution_count": 3,
   "metadata": {},
   "outputs": [
    {
     "data": {
      "text/plain": [
       "(1672, 18876)"
      ]
     },
     "execution_count": 3,
     "metadata": {},
     "output_type": "execute_result"
    }
   ],
   "source": [
    "import numpy as np\n",
    "import pandas as pd\n",
    "import networkx as nx\n",
    "\n",
    "\n",
    "from sklearn.svm import SVC\n",
    "from sklearn.linear_model import SGDClassifier\n",
    "from sklearn.model_selection import train_test_split\n",
    "from sklearn.metrics import accuracy_score\n",
    "from sklearn.utils import resample\n",
    "from sklearn.preprocessing import StandardScaler\n",
    "from sklearn.pipeline import make_pipeline\n",
    "from sklearn.base import clone\n",
    "from sklearn.metrics import roc_auc_score\n",
    "\n",
    "import statsmodels.api as sm\n",
    "from statsmodels.stats.multitest import fdrcorrection\n",
    "from statsmodels.formula.api import ols\n",
    "\n",
    "import sys\n",
    "sys.path.append(\"..\")\n",
    "sys.path.append(\"../..\")\n",
    "from cluster_analysis import *\n",
    "# from LOR_calculation import *\n",
    "\n",
    "import warnings\n",
    "\n",
    "species='Escherichia_coli'\n",
    "\n",
    "X_df = pd.read_csv(f'../../data/temp/X_{species}_SxG_filtered_hypo_unknowns_freq5.csv', index_col=0) # filtering\n",
    "\n",
    "drugs = ['streptomycin',\n",
    " 'sulfamethoxazole',\n",
    " 'tetracycline',\n",
    " 'cefalothin',\n",
    " 'trimethoprim_sulphamethoxazole',\n",
    " 'amoxicillin_clavulanic_acid',\n",
    " 'trimethoprim',\n",
    " 'amoxicillin',\n",
    " 'ampicillin',\n",
    " 'doripenem',\n",
    " 'levofloxacin',\n",
    " 'ciprofloxacin']\n",
    "\n",
    "\n",
    "G=nx.read_graphml('../../data/nets/Escherichia_coli/200_randomized_SVM_0.2unsigned_corr_trimethoprim.graphml')\n",
    "edge_list = list(G.edges)\n",
    "\n",
    "\n",
    "pheno_df= pd.read_csv(f'../../metadata/{species}/{species}_{drug}.csv', index_col=0)\n",
    "y_df=pheno_df\n",
    "y_df.index = y_df.index.astype('float')\n",
    "\n",
    "y_df = y_df.sort_index()\n",
    "\n",
    "y_indices=list(y_df.index)\n",
    "\n",
    "\n",
    "X_df = X_df.sort_index()\n",
    "y_df = y_df.sort_index()\n",
    "\n",
    "y_indices=list(y_df.index)\n",
    "X_indices=list(X_df.index)\n",
    "\n",
    "intersection = [i for i in y_indices if i in X_indices]\n",
    "y_df = y_df.loc[intersection]\n",
    "X_df = X_df.loc[intersection]\n",
    "\n",
    "X_df = X_df.sort_index()\n",
    "y_df = y_df.sort_index() # -- just making sure bcs im paranoid\n",
    "\n",
    "X = X_df.values\n",
    "y = y_df.values\n",
    "\n",
    "\n",
    "\n",
    "labeled_matrix = pd.concat([X_df, y_df], axis=1)\n",
    "labeled_matrix.shape"
   ]
  },
  {
   "cell_type": "markdown",
   "metadata": {},
   "source": [
    "## Models"
   ]
  },
  {
   "cell_type": "markdown",
   "metadata": {},
   "source": [
    "### formula"
   ]
  },
  {
   "cell_type": "code",
   "execution_count": 30,
   "metadata": {},
   "outputs": [],
   "source": [
    "import statsmodels.formula.api as smf\n",
    "import statsmodels\n",
    "import warnings\n",
    "\n",
    "# -- to memoize the following: \n",
    "#       num_pairs: number of pairs given as input\n",
    "#       num_colinear: number of errors that occurred during the process (colinearity & ML convergence)\n",
    "#       num_sig: number of sig interactions (rejected)\n",
    "#       weights: strengths of interactions\n",
    "\n",
    "\n",
    "X_pairs = [(i.replace(' ', '_'), j.replace(' ', '_')) for i, j in edge_list]\n",
    "interaction_labeled_matrix = labeled_matrix.rename(columns={col: col.replace(' ', '_') for col in labeled_matrix.columns})\n",
    "\n",
    "# formula = f'SIR ~ {a} + {b} + {a}:{b}'\n",
    "\n",
    "test_pairs = X_pairs[:1]\n",
    "count_errors=0\n",
    "\n",
    "warnings.filterwarnings('ignore')\n",
    "\n",
    "non_col_interaction = {}  #saving interaction p value of each pair that is run in a logit\n",
    "\n",
    "for pair in X_pairs:\n",
    "    a, b = pair\n",
    "    # print(\" --- looking into the edge between\", a, \"and\", b)\n",
    "\n",
    "    logit_model = smf.logit(formula=f'SIR ~ {a} + {b} + {a}:{b}', data=interaction_labeled_matrix)\n",
    "    try:\n",
    "        results = logit_model.fit(disp=0)\n",
    "        inter_p = results.pvalues.iloc[3,]\n",
    "        non_col_interaction[pair]=inter_p\n",
    "    except Exception as e:\n",
    "        # print(f\"An error occurred: {e}\")\n",
    "        count_errors+=1\n",
    "\n"
   ]
  },
  {
   "cell_type": "code",
   "execution_count": null,
   "metadata": {},
   "outputs": [],
   "source": [
    "# performing FDR correction\n",
    "\n",
    "valid_pairs=list(non_col_interaction.keys())\n",
    "p_values = list(non_col_interaction.values())\n",
    "\n",
    "reject, pvals_corrected = fdrcorrection(p_values, alpha=0.05, method='indep')"
   ]
  },
  {
   "cell_type": "code",
   "execution_count": 28,
   "metadata": {},
   "outputs": [
    {
     "data": {
      "text/plain": [
       "0.9992495597164684"
      ]
     },
     "execution_count": 28,
     "metadata": {},
     "output_type": "execute_result"
    }
   ],
   "source": [
    "inter_p = results.pvalues.iloc[3,]"
   ]
  },
  {
   "cell_type": "code",
   "execution_count": null,
   "metadata": {},
   "outputs": [],
   "source": [
    "X_pairs = [(i.replace(' ', '_'), j.replace(' ', '_')) for i, j in edge_list]\n",
    "interaction_labeled_matrix = labeled_matrix.rename(columns={col: col.replace(' ', '_') for col in labeled_matrix.columns})\n",
    "\n",
    "# formula = f'SIR ~ {a} + {b} + {a}:{b}'\n",
    "\n",
    "test_pairs = X_pairs[:1]\n",
    "count_errors=0\n",
    "\n",
    "warnings.filterwarnings('ignore')\n",
    "\n",
    "for pair in X_pairs:\n",
    "    a, b = pair\n",
    "    print(\" --- looking into the edge between\", a, \"and\", b)\n",
    "\n",
    "    logit_model = smf.logit(formula=f'SIR ~ {a} + {b} + {a}:{b}', data=interaction_labeled_matrix)\n",
    "    try:\n",
    "        results = logit_model.fit(disp=0)\n",
    "    except Exception as e:\n",
    "        print(f\"An error occurred: {e}\")\n",
    "        count_errors+=1"
   ]
  },
  {
   "cell_type": "code",
   "execution_count": 12,
   "metadata": {},
   "outputs": [
    {
     "data": {
      "text/html": [
       "<table class=\"simpletable\">\n",
       "<caption>Logit Regression Results</caption>\n",
       "<tr>\n",
       "  <th>Dep. Variable:</th>          <td>SIR</td>       <th>  No. Observations:  </th>  <td>  1672</td>  \n",
       "</tr>\n",
       "<tr>\n",
       "  <th>Model:</th>                 <td>Logit</td>      <th>  Df Residuals:      </th>  <td>  1668</td>  \n",
       "</tr>\n",
       "<tr>\n",
       "  <th>Method:</th>                 <td>MLE</td>       <th>  Df Model:          </th>  <td>     3</td>  \n",
       "</tr>\n",
       "<tr>\n",
       "  <th>Date:</th>            <td>Wed, 01 May 2024</td> <th>  Pseudo R-squ.:     </th>  <td>0.02221</td> \n",
       "</tr>\n",
       "<tr>\n",
       "  <th>Time:</th>                <td>15:37:47</td>     <th>  Log-Likelihood:    </th> <td> -946.23</td> \n",
       "</tr>\n",
       "<tr>\n",
       "  <th>converged:</th>             <td>False</td>      <th>  LL-Null:           </th> <td> -967.72</td> \n",
       "</tr>\n",
       "<tr>\n",
       "  <th>Covariance Type:</th>     <td>nonrobust</td>    <th>  LLR p-value:       </th> <td>2.467e-09</td>\n",
       "</tr>\n",
       "</table>\n",
       "<table class=\"simpletable\">\n",
       "<tr>\n",
       "            <td></td>              <th>coef</th>     <th>std err</th>      <th>z</th>      <th>P>|z|</th>  <th>[0.025</th>    <th>0.975]</th>  \n",
       "</tr>\n",
       "<tr>\n",
       "  <th>Intercept</th>            <td>   -1.0587</td> <td>    0.059</td> <td>  -17.852</td> <td> 0.000</td> <td>   -1.175</td> <td>   -0.942</td>\n",
       "</tr>\n",
       "<tr>\n",
       "  <th>Cluster_0</th>            <td>   -0.0736</td> <td>    0.193</td> <td>   -0.380</td> <td> 0.704</td> <td>   -0.453</td> <td>    0.306</td>\n",
       "</tr>\n",
       "<tr>\n",
       "  <th>Cluster_20</th>           <td>   15.8568</td> <td> 1634.466</td> <td>    0.010</td> <td> 0.992</td> <td>-3187.639</td> <td> 3219.352</td>\n",
       "</tr>\n",
       "<tr>\n",
       "  <th>Cluster_0:Cluster_20</th> <td>  -12.7787</td> <td> 1634.467</td> <td>   -0.008</td> <td> 0.994</td> <td>-3216.274</td> <td> 3190.717</td>\n",
       "</tr>\n",
       "</table>"
      ],
      "text/latex": [
       "\\begin{center}\n",
       "\\begin{tabular}{lclc}\n",
       "\\toprule\n",
       "\\textbf{Dep. Variable:}         &       SIR        & \\textbf{  No. Observations:  } &     1672    \\\\\n",
       "\\textbf{Model:}                 &      Logit       & \\textbf{  Df Residuals:      } &     1668    \\\\\n",
       "\\textbf{Method:}                &       MLE        & \\textbf{  Df Model:          } &        3    \\\\\n",
       "\\textbf{Date:}                  & Wed, 01 May 2024 & \\textbf{  Pseudo R-squ.:     } &  0.02221    \\\\\n",
       "\\textbf{Time:}                  &     15:37:47     & \\textbf{  Log-Likelihood:    } &   -946.23   \\\\\n",
       "\\textbf{converged:}             &      False       & \\textbf{  LL-Null:           } &   -967.72   \\\\\n",
       "\\textbf{Covariance Type:}       &    nonrobust     & \\textbf{  LLR p-value:       } & 2.467e-09   \\\\\n",
       "\\bottomrule\n",
       "\\end{tabular}\n",
       "\\begin{tabular}{lcccccc}\n",
       "                                & \\textbf{coef} & \\textbf{std err} & \\textbf{z} & \\textbf{P$> |$z$|$} & \\textbf{[0.025} & \\textbf{0.975]}  \\\\\n",
       "\\midrule\n",
       "\\textbf{Intercept}              &      -1.0587  &        0.059     &   -17.852  &         0.000        &       -1.175    &       -0.942     \\\\\n",
       "\\textbf{Cluster\\_0}             &      -0.0736  &        0.193     &    -0.380  &         0.704        &       -0.453    &        0.306     \\\\\n",
       "\\textbf{Cluster\\_20}            &      15.8568  &     1634.466     &     0.010  &         0.992        &    -3187.639    &     3219.352     \\\\\n",
       "\\textbf{Cluster\\_0:Cluster\\_20} &     -12.7787  &     1634.467     &    -0.008  &         0.994        &    -3216.274    &     3190.717     \\\\\n",
       "\\bottomrule\n",
       "\\end{tabular}\n",
       "%\\caption{Logit Regression Results}\n",
       "\\end{center}"
      ],
      "text/plain": [
       "<class 'statsmodels.iolib.summary.Summary'>\n",
       "\"\"\"\n",
       "                           Logit Regression Results                           \n",
       "==============================================================================\n",
       "Dep. Variable:                    SIR   No. Observations:                 1672\n",
       "Model:                          Logit   Df Residuals:                     1668\n",
       "Method:                           MLE   Df Model:                            3\n",
       "Date:                Wed, 01 May 2024   Pseudo R-squ.:                 0.02221\n",
       "Time:                        15:37:47   Log-Likelihood:                -946.23\n",
       "converged:                      False   LL-Null:                       -967.72\n",
       "Covariance Type:            nonrobust   LLR p-value:                 2.467e-09\n",
       "========================================================================================\n",
       "                           coef    std err          z      P>|z|      [0.025      0.975]\n",
       "----------------------------------------------------------------------------------------\n",
       "Intercept               -1.0587      0.059    -17.852      0.000      -1.175      -0.942\n",
       "Cluster_0               -0.0736      0.193     -0.380      0.704      -0.453       0.306\n",
       "Cluster_20              15.8568   1634.466      0.010      0.992   -3187.639    3219.352\n",
       "Cluster_0:Cluster_20   -12.7787   1634.467     -0.008      0.994   -3216.274    3190.717\n",
       "========================================================================================\n",
       "\"\"\""
      ]
     },
     "execution_count": 12,
     "metadata": {},
     "output_type": "execute_result"
    }
   ],
   "source": [
    "results.summary()"
   ]
  },
  {
   "cell_type": "code",
   "execution_count": 6,
   "metadata": {},
   "outputs": [
    {
     "data": {
      "text/html": [
       "<table class=\"simpletable\">\n",
       "<caption>Logit Regression Results</caption>\n",
       "<tr>\n",
       "  <th>Dep. Variable:</th>          <td>SIR</td>       <th>  No. Observations:  </th>  <td>  1672</td>  \n",
       "</tr>\n",
       "<tr>\n",
       "  <th>Model:</th>                 <td>Logit</td>      <th>  Df Residuals:      </th>  <td>  1668</td>  \n",
       "</tr>\n",
       "<tr>\n",
       "  <th>Method:</th>                 <td>MLE</td>       <th>  Df Model:          </th>  <td>     3</td>  \n",
       "</tr>\n",
       "<tr>\n",
       "  <th>Date:</th>            <td>Wed, 01 May 2024</td> <th>  Pseudo R-squ.:     </th>  <td>0.02221</td> \n",
       "</tr>\n",
       "<tr>\n",
       "  <th>Time:</th>                <td>15:36:25</td>     <th>  Log-Likelihood:    </th> <td> -946.23</td> \n",
       "</tr>\n",
       "<tr>\n",
       "  <th>converged:</th>             <td>False</td>      <th>  LL-Null:           </th> <td> -967.72</td> \n",
       "</tr>\n",
       "<tr>\n",
       "  <th>Covariance Type:</th>     <td>nonrobust</td>    <th>  LLR p-value:       </th> <td>2.467e-09</td>\n",
       "</tr>\n",
       "</table>\n",
       "<table class=\"simpletable\">\n",
       "<tr>\n",
       "            <td></td>              <th>coef</th>     <th>std err</th>      <th>z</th>      <th>P>|z|</th>  <th>[0.025</th>    <th>0.975]</th>  \n",
       "</tr>\n",
       "<tr>\n",
       "  <th>Intercept</th>            <td>   -1.0587</td> <td>    0.059</td> <td>  -17.852</td> <td> 0.000</td> <td>   -1.175</td> <td>   -0.942</td>\n",
       "</tr>\n",
       "<tr>\n",
       "  <th>Cluster_0</th>            <td>   -0.0736</td> <td>    0.193</td> <td>   -0.380</td> <td> 0.704</td> <td>   -0.453</td> <td>    0.306</td>\n",
       "</tr>\n",
       "<tr>\n",
       "  <th>Cluster_20</th>           <td>   15.8568</td> <td> 1634.466</td> <td>    0.010</td> <td> 0.992</td> <td>-3187.639</td> <td> 3219.352</td>\n",
       "</tr>\n",
       "<tr>\n",
       "  <th>Cluster_0:Cluster_20</th> <td>  -12.7787</td> <td> 1634.467</td> <td>   -0.008</td> <td> 0.994</td> <td>-3216.274</td> <td> 3190.717</td>\n",
       "</tr>\n",
       "</table>"
      ],
      "text/latex": [
       "\\begin{center}\n",
       "\\begin{tabular}{lclc}\n",
       "\\toprule\n",
       "\\textbf{Dep. Variable:}         &       SIR        & \\textbf{  No. Observations:  } &     1672    \\\\\n",
       "\\textbf{Model:}                 &      Logit       & \\textbf{  Df Residuals:      } &     1668    \\\\\n",
       "\\textbf{Method:}                &       MLE        & \\textbf{  Df Model:          } &        3    \\\\\n",
       "\\textbf{Date:}                  & Wed, 01 May 2024 & \\textbf{  Pseudo R-squ.:     } &  0.02221    \\\\\n",
       "\\textbf{Time:}                  &     15:36:25     & \\textbf{  Log-Likelihood:    } &   -946.23   \\\\\n",
       "\\textbf{converged:}             &      False       & \\textbf{  LL-Null:           } &   -967.72   \\\\\n",
       "\\textbf{Covariance Type:}       &    nonrobust     & \\textbf{  LLR p-value:       } & 2.467e-09   \\\\\n",
       "\\bottomrule\n",
       "\\end{tabular}\n",
       "\\begin{tabular}{lcccccc}\n",
       "                                & \\textbf{coef} & \\textbf{std err} & \\textbf{z} & \\textbf{P$> |$z$|$} & \\textbf{[0.025} & \\textbf{0.975]}  \\\\\n",
       "\\midrule\n",
       "\\textbf{Intercept}              &      -1.0587  &        0.059     &   -17.852  &         0.000        &       -1.175    &       -0.942     \\\\\n",
       "\\textbf{Cluster\\_0}             &      -0.0736  &        0.193     &    -0.380  &         0.704        &       -0.453    &        0.306     \\\\\n",
       "\\textbf{Cluster\\_20}            &      15.8568  &     1634.466     &     0.010  &         0.992        &    -3187.639    &     3219.352     \\\\\n",
       "\\textbf{Cluster\\_0:Cluster\\_20} &     -12.7787  &     1634.467     &    -0.008  &         0.994        &    -3216.274    &     3190.717     \\\\\n",
       "\\bottomrule\n",
       "\\end{tabular}\n",
       "%\\caption{Logit Regression Results}\n",
       "\\end{center}"
      ],
      "text/plain": [
       "<class 'statsmodels.iolib.summary.Summary'>\n",
       "\"\"\"\n",
       "                           Logit Regression Results                           \n",
       "==============================================================================\n",
       "Dep. Variable:                    SIR   No. Observations:                 1672\n",
       "Model:                          Logit   Df Residuals:                     1668\n",
       "Method:                           MLE   Df Model:                            3\n",
       "Date:                Wed, 01 May 2024   Pseudo R-squ.:                 0.02221\n",
       "Time:                        15:36:25   Log-Likelihood:                -946.23\n",
       "converged:                      False   LL-Null:                       -967.72\n",
       "Covariance Type:            nonrobust   LLR p-value:                 2.467e-09\n",
       "========================================================================================\n",
       "                           coef    std err          z      P>|z|      [0.025      0.975]\n",
       "----------------------------------------------------------------------------------------\n",
       "Intercept               -1.0587      0.059    -17.852      0.000      -1.175      -0.942\n",
       "Cluster_0               -0.0736      0.193     -0.380      0.704      -0.453       0.306\n",
       "Cluster_20              15.8568   1634.466      0.010      0.992   -3187.639    3219.352\n",
       "Cluster_0:Cluster_20   -12.7787   1634.467     -0.008      0.994   -3216.274    3190.717\n",
       "========================================================================================\n",
       "\"\"\""
      ]
     },
     "execution_count": 6,
     "metadata": {},
     "output_type": "execute_result"
    }
   ],
   "source": [
    "results.summary()"
   ]
  },
  {
   "cell_type": "markdown",
   "metadata": {},
   "source": [
    "### vanilla"
   ]
  },
  {
   "cell_type": "code",
   "execution_count": null,
   "metadata": {},
   "outputs": [],
   "source": [
    "X_pairs=edge_list\n",
    "error_test=[(\"Cluster 0\", \"Cluster 20\")]\n",
    "\n",
    "p_values_list = []\n",
    "\n",
    "for pair in error_test:\n",
    "    a, b = pair\n",
    "    print(\" --- looking into the edge between\", a, \"and\", b)\n",
    "\n",
    "    X_selected = X_df.loc[:, [a, b]]\n",
    "\n",
    "    print(X_selected.shape)\n",
    "\n",
    "    X_selected = sm.add_constant(X_selected)\n",
    "\n",
    "    X_selected['interaction'] = X_selected.iloc[:, a] * X_selected.iloc[:, b]\n",
    "\n",
    "    try:\n",
    "        with warnings.catch_warnings():\n",
    "            warnings.filterwarnings(\"ignore\")\n",
    "            logit_model = sm.Logit(y, X_selected)\n",
    "            result = logit_model.fit()\n",
    "            p_values_list.append(result.pvalues['interaction'])\n",
    "\n",
    "    except:\n",
    "        print('singular matrix; deleted')"
   ]
  }
 ],
 "metadata": {
  "kernelspec": {
   "display_name": "base",
   "language": "python",
   "name": "python3"
  },
  "language_info": {
   "codemirror_mode": {
    "name": "ipython",
    "version": 3
   },
   "file_extension": ".py",
   "mimetype": "text/x-python",
   "name": "python",
   "nbconvert_exporter": "python",
   "pygments_lexer": "ipython3",
   "version": "3.12.2"
  }
 },
 "nbformat": 4,
 "nbformat_minor": 2
}
