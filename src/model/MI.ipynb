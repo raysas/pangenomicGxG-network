{
 "cells": [
  {
   "cell_type": "markdown",
   "metadata": {},
   "source": [
    "## essentials"
   ]
  },
  {
   "cell_type": "code",
   "execution_count": 1,
   "metadata": {},
   "outputs": [
    {
     "name": "stderr",
     "output_type": "stream",
     "text": [
      "2024-05-02 08:03:58.841055: I tensorflow/core/util/port.cc:113] oneDNN custom operations are on. You may see slightly different numerical results due to floating-point round-off errors from different computation orders. To turn them off, set the environment variable `TF_ENABLE_ONEDNN_OPTS=0`.\n",
      "2024-05-02 08:03:58.842514: I external/local_tsl/tsl/cuda/cudart_stub.cc:32] Could not find cuda drivers on your machine, GPU will not be used.\n",
      "2024-05-02 08:03:58.883262: I external/local_tsl/tsl/cuda/cudart_stub.cc:32] Could not find cuda drivers on your machine, GPU will not be used.\n",
      "2024-05-02 08:03:59.055161: I tensorflow/core/platform/cpu_feature_guard.cc:210] This TensorFlow binary is optimized to use available CPU instructions in performance-critical operations.\n",
      "To enable the following instructions: AVX2 AVX_VNNI FMA, in other operations, rebuild TensorFlow with the appropriate compiler flags.\n",
      "2024-05-02 08:03:59.756628: W tensorflow/compiler/tf2tensorrt/utils/py_utils.cc:38] TF-TRT Warning: Could not find TensorRT\n"
     ]
    }
   ],
   "source": [
    "import numpy as np\n",
    "import pandas as pd\n",
    "import tensorflow as tf\n",
    "import networkx as nx\n",
    "\n",
    "\n",
    "from sklearn.svm import SVC\n",
    "from sklearn.linear_model import SGDClassifier\n",
    "from sklearn.model_selection import train_test_split\n",
    "from sklearn.metrics import accuracy_score\n",
    "from sklearn.utils import resample\n",
    "from sklearn.preprocessing import StandardScaler\n",
    "from sklearn.pipeline import make_pipeline\n",
    "from sklearn.base import clone\n",
    "from sklearn.metrics import roc_auc_score\n",
    "\n",
    "import statsmodels.api as sm\n",
    "from statsmodels.stats.multitest import fdrcorrection\n",
    "from statsmodels.formula.api import ols\n",
    "\n",
    "import sys\n",
    "sys.path.append(\"..\")\n",
    "sys.path.append(\"../..\")\n",
    "from cluster_analysis import *\n",
    "# from LOR_calculation import *\n",
    "\n",
    "import warnings"
   ]
  },
  {
   "cell_type": "markdown",
   "metadata": {},
   "source": [
    "trimethoprim"
   ]
  },
  {
   "cell_type": "code",
   "execution_count": 18,
   "metadata": {},
   "outputs": [
    {
     "data": {
      "text/plain": [
       "(499, 18876)"
      ]
     },
     "execution_count": 18,
     "metadata": {},
     "output_type": "execute_result"
    }
   ],
   "source": [
    "species='Escherichia_coli'\n",
    "\n",
    "X_df = pd.read_csv(f'../../data/temp/X_{species}_SxG_filtered_hypo_unknowns_freq5.csv', index_col=0) # filtering\n",
    "\n",
    "drug='trimethoprim'\n",
    "\n",
    "pheno_df= pd.read_csv(f'../../metadata/{species}/{species}_{drug}.csv', index_col=0)\n",
    "y_df=pheno_df\n",
    "y_df.index = y_df.index.astype('float')\n",
    "\n",
    "y_df = y_df.sort_index()\n",
    "\n",
    "y_indices=list(y_df.index)\n",
    "\n",
    "\n",
    "X_df = X_df.sort_index()\n",
    "y_df = y_df.sort_index()\n",
    "\n",
    "y_indices=list(y_df.index)\n",
    "X_indices=list(X_df.index)\n",
    "\n",
    "intersection = [i for i in y_indices if i in X_indices]\n",
    "y_df = y_df.loc[intersection]\n",
    "X_df = X_df.loc[intersection]\n",
    "\n",
    "X_df = X_df.sort_index()\n",
    "y_df = y_df.sort_index() # -- just making sure bcs im paranoid\n",
    "\n",
    "X = X_df.values\n",
    "y = y_df.values\n",
    "\n",
    "\n",
    "\n",
    "labeled_matrix = pd.concat([X_df, y_df], axis=1)\n",
    "labeled_matrix.shape"
   ]
  },
  {
   "cell_type": "code",
   "execution_count": 4,
   "metadata": {},
   "outputs": [],
   "source": [
    "clstr_df= get_cluster_representatives(f'../../pangenome-repo/Pangenome-Analysis-Workflow/codes/{species}/{species}.fasta.clstr')\n",
    "_product_df=get_representative_products(f'../../pangenome-repo/Pangenome-Analysis-Workflow/codes/{species}/{species}.fasta')\n",
    "product_df = combine_cluster_product(clstr_df, _product_df)\n",
    "freq_df = get_cluster_frequency(f'../../pangenome-repo/Pangenome-Analysis-Workflow/codes/{species}/{species}_cluster_frequencies.csv')\n",
    "\n",
    "#  --counting those thar have hypotehtical in the product name\n",
    "product_df['hypothetical'] = product_df['product_name'].str.contains('hypothetical', case=False)\n",
    "product_df['hypothetical'].sum()\n",
    "\n",
    "#  --same for unknown\n",
    "product_df['unknown'] = product_df['product_name'].str.contains('unknown', case=False)\n",
    "product_df['unknown'].sum()\n",
    "\n",
    "# now will get a list of clusters that are either hypo or unknown to filter out\n",
    "hypothetical_clusters = product_df[product_df['hypothetical']==True].index.tolist()\n",
    "unknown_clusters = product_df[product_df['unknown']==True].index.tolist()\n",
    "\n",
    "to_remove = list(set(hypothetical_clusters).union(unknown_clusters))\n",
    "\n",
    "# -- get the list of clusters that are present in less than 5 genomes\n",
    "low_freq_clusters = freq_df[freq_df['frequency']<5].index.tolist()\n",
    "\n",
    "to_remove = list(set(to_remove).union(low_freq_clusters))\n",
    "\n",
    "product_df = product_df.drop(to_remove)"
   ]
  },
  {
   "cell_type": "code",
   "execution_count": 5,
   "metadata": {},
   "outputs": [],
   "source": [
    "\n",
    "\n",
    "def transform_cluster_to_product(cluster_name, clstr_product_df):\n",
    "    #match it ffrom clstr_poduct_df from the index\n",
    "    cluster = clstr_product_df.loc[cluster_name]\n",
    "    product=cluster['product_name']\n",
    "    \n",
    "    return product"
   ]
  },
  {
   "cell_type": "markdown",
   "metadata": {},
   "source": [
    "## MI"
   ]
  },
  {
   "cell_type": "code",
   "execution_count": 23,
   "metadata": {},
   "outputs": [],
   "source": [
    "# -- computing MI between each col and the last col in labeled_matrix\n",
    "from sklearn.metrics import mutual_info_score\n",
    "\n",
    "mi_scores = {}\n",
    "for col in labeled_matrix.columns[:-1]:\n",
    "    mi_scores[col]=mutual_info_score(labeled_matrix[col], labeled_matrix['SIR'])\n",
    "\n",
    "\n",
    "MI_top_100 = sorted(mi_scores, key=mi_scores.get, reverse=True)[:100]\n",
    "\n",
    "for i in  range(len(MI_top_100)):\n",
    "    MI_top_100[i]=transform_cluster_to_product(MI_top_100[i], product_df)"
   ]
  },
  {
   "cell_type": "code",
   "execution_count": 25,
   "metadata": {},
   "outputs": [
    {
     "data": {
      "text/plain": [
       "['Dihydropteroate synthase type-2 (EC 2.5.1.15) @ Sulfonamide resistance protein_7',\n",
       " 'Integron integrase IntI1_2',\n",
       " 'Aminoglycoside 6-phosphotransferase (EC 2.7.1.72) => APH(6)-Ic/APH(6)-Id_11',\n",
       " 'Small multidrug resistance (SMR) efflux transporter => QacE delta 1, quaternary ammonium compounds_4',\n",
       " 'Dihydropteroate synthase type-2 (EC 2.5.1.15) @ Sulfonamide resistance protein_4',\n",
       " 'Mercuric transport protein, MerC_1',\n",
       " \"Aminoglycoside 3''-nucleotidyltransferase (EC 2.7.7.-) => ANT(3'')-Ia (AadA family)_6\",\n",
       " 'Chromate transport protein ChrA_3',\n",
       " \"Aminoglycoside 3''-phosphotransferase (EC 2.7.1.87) => APH(3'')-I_1\",\n",
       " 'Mercuric transport protein, MerT_2',\n",
       " 'Periplasmic mercury(+2) binding protein, MerP_1',\n",
       " 'Mercuric ion reductase (EC 1.16.1.1)_1',\n",
       " 'Mercuric resistence transcriptional repressor, MerD_1',\n",
       " 'Mercuric resistance operon regulatory protein MerR_1',\n",
       " 'T6SS component TssM (IcmF/VasK)_18',\n",
       " \"Macrolide 2'-phosphotransferase => Mph(A) family_1\",\n",
       " 'Uncharacterized GST-like protein yncG_4',\n",
       " 'Mobile element protein_121',\n",
       " 'Glutamate decarboxylase (EC 4.1.1.15)_1',\n",
       " 'Mercuric transport protein, MerE_1',\n",
       " 'Dihydrofolate reductase (EC 1.5.1.3)_1',\n",
       " 'Uncharacterized fimbrial-like protein YadL_2',\n",
       " 'H repeat-associated protein, YhhI family_65',\n",
       " 'Class A beta-lactamase (EC 3.5.2.6) => TEM family_1',\n",
       " 'Outer membrane porin OmpD_3',\n",
       " '3-(3-hydroxyphenyl)propanoate hydroxylase (EC 1.14.13.127)_1',\n",
       " 'Tetracycline resistance, MFS efflux pump => Tet(A)_6',\n",
       " 'Tetracycline resistance regulatory protein TetR_1',\n",
       " 'Uncharacterized fimbrial-like protein YadM_16',\n",
       " 'IS, phage, Tn; Transposon-related functions_8',\n",
       " 'Diguanylate cyclase (EC 2.7.7.65) => Globin-coupled heme-based oxygen sensor DgcO_4',\n",
       " 'Phage tail fiber, side tail fiber protein Stf_458',\n",
       " 'Uncharacterized fimbrial-like protein YadK_4',\n",
       " 'Per-activated serine protease autotransporter enterotoxin EspC_11',\n",
       " '3-(3-hydroxyphenyl)propionate transporter, MFS-type_1',\n",
       " 'Mobile element protein_103',\n",
       " 'Replication protein RepC_2',\n",
       " '4-hydroxy-2-oxovalerate aldolase (EC 4.1.3.39)_2',\n",
       " 'Acetaldehyde dehydrogenase, acetylating, (EC 1.2.1.10) in gene cluster for degradation of phenols, cresols, catechol_1',\n",
       " '2-hydroxy-6-oxonona-2,4-dienedioate hydrolase (EC 3.7.1.14)_1',\n",
       " '2-keto-4-pentenoate hydratase (EC 4.2.1.80)_1',\n",
       " 'Replication protein RepA_7',\n",
       " '3-carboxyethylcatechol 2,3-dioxygenase (EC 1.13.11.16)_2',\n",
       " 'O-antigen ligase_2',\n",
       " 'Beta-1,3-glucosyltransferase_1',\n",
       " 'Integrase_54',\n",
       " 'Minor fimbrial subunit StfE_6',\n",
       " 'TPR domain protein_8',\n",
       " 'Transposase_203',\n",
       " 'DNA replication protein_44',\n",
       " 'Mhp operon transcriptional activator_2',\n",
       " 'Carbamate kinase (EC 2.7.2.2)_2',\n",
       " 'Arginine pathway regulatory protein ArgR, repressor of arg regulon_3',\n",
       " 'RidA/YER057c/UK114 superfamily, group 7, YjgH-like protein_1',\n",
       " 'Putative HTH-type transcriptional regulator YjgJ, TetR family_2',\n",
       " 'Putative uncharacterized protein YhiS_4',\n",
       " 'Cyclic-di-GMP-binding biofilm dispersal mediator protein_1',\n",
       " 'Fructose-1,6-bisphosphatase, GlpX type (EC 3.1.3.11)_9',\n",
       " 'Mobile element protein_232',\n",
       " 'Arginine/ornithine antiporter ArcD_5',\n",
       " 'Glycosyltransferase_18',\n",
       " 'Mobile element protein_456',\n",
       " 'Minor fimbrial subunit StfF_7',\n",
       " 'TniA putative transposase_11',\n",
       " 'PilV-like protein_7',\n",
       " 'Mobile element protein_24',\n",
       " 'Fructose-1,6-bisphosphatase, GlpX type (EC 3.1.3.11)_8',\n",
       " 'AidA-I adhesin-like protein_79',\n",
       " 'Nucleoside-specific channel-forming protein Tsx precursor_7',\n",
       " 'Inner membrane protein YjgN_25',\n",
       " 'Uncharacterized protein YbeU_4',\n",
       " 'Uncharacterized MFS-type transporter_58',\n",
       " 'Polyketide synthase modules and related proteins_6',\n",
       " 'Polyketide synthase modules and related proteins_2',\n",
       " 'Polyketide synthase modules and related proteins_4',\n",
       " 'Polyketide synthase modules and related proteins_8',\n",
       " 'Polyketide synthase modules and related proteins_5',\n",
       " 'Putative amidase_3',\n",
       " 'Na+-driven multidrug efflux pump_1',\n",
       " 'Integrase_21',\n",
       " 'Acyl-CoA dehydrogenase_2',\n",
       " 'Uncharacterized protein YbeQ_2',\n",
       " 'Transposase, IS3/IS911 family_2',\n",
       " \"5'-nucleotidase (EC 3.1.3.5)_5\",\n",
       " 'Chaperone protein fimC precursor_8',\n",
       " 'Phage exclusion protein ren_2',\n",
       " 'Polyketide synthase modules and related proteins_7',\n",
       " 'Polyketide synthase modules and related proteins_3',\n",
       " 'Arylsulfatase (EC 3.1.6.1)_17',\n",
       " 'Methyl-accepting chemotaxis protein III (ribose and galactose chemoreceptor protein)_6',\n",
       " 'Uncharacterized Na(+)/H(+) exchanger YjcE_5',\n",
       " 'Malonyl CoA-acyl carrier protein transacylase (EC 2.3.1.39) in polyketide synthesis_1',\n",
       " 'Programmed cell death toxin PemK_1',\n",
       " 'AidA-I adhesin-like protein_11',\n",
       " 'T6SS outer membrane component TssL (ImpK/VasF)_1',\n",
       " 'T6SS secretion lipoprotein TssJ (VasD)_1',\n",
       " 'Methyl-accepting chemotaxis protein IV (dipeptide chemoreceptor protein)_1',\n",
       " 'Methyl-accepting chemotaxis protein IV (dipeptide chemoreceptor protein)_2',\n",
       " 'RatA homolog_2',\n",
       " 'Programmed cell death antitoxin PemI_1']"
      ]
     },
     "execution_count": 25,
     "metadata": {},
     "output_type": "execute_result"
    }
   ],
   "source": [
    "MI_top_100"
   ]
  },
  {
   "cell_type": "code",
   "execution_count": 32,
   "metadata": {},
   "outputs": [
    {
     "data": {
      "text/plain": [
       "{20: 'Dihydrofolate reductase (EC 1.5.1.3)_1'}"
      ]
     },
     "execution_count": 32,
     "metadata": {},
     "output_type": "execute_result"
    }
   ],
   "source": [
    "arg = ['Multidrug efflux system, inner membrane proton/drug antiporter (RND type) => MexB of MexAB-OprM',\n",
    " 'Dihydrofolate reductase (EC 1.5.1.3)',\n",
    " 'trimethoprim-resistant dihydrofolate reductase DfrA1']\n",
    "\n",
    "def parse_ARGs(ARG_products:pd.DataFrame, top_genes:pd.DataFrame):\n",
    "    '''\n",
    "    Takes in a list of ARG products and a list of top genes and returns a dict of ARGs that are in the top genes (with their rank)\n",
    "    '''\n",
    "    ARGs = {}\n",
    "    # print(ARG_products)\n",
    "    for gene in top_genes:\n",
    "        for product in ARG_products:\n",
    "            # print(len(product))\n",
    "            if product in gene:\n",
    "                ARGs[top_genes.index(gene)]=gene\n",
    "    return ARGs\n",
    "\n",
    "parse_ARGs(arg, MI_top_100)"
   ]
  },
  {
   "cell_type": "markdown",
   "metadata": {},
   "source": [
    "# test"
   ]
  },
  {
   "cell_type": "code",
   "execution_count": 33,
   "metadata": {},
   "outputs": [],
   "source": [
    "presence_path=\"../../data/temp/X_Escherichia_coli_SxG_filtered_hypo_unknowns_freq5.csv\" #add the method that generates presence to this script\n",
    "presence_df= pd.read_csv(presence_path, index_col=0)\n",
    "presence_df = presence_df.T\n",
    "\n",
    "presence_df.to_csv(\"../../data/temp/X_Escherichia_coli_GxS_filtered_hypo_unknowns_freq5.csv\")"
   ]
  },
  {
   "cell_type": "code",
   "execution_count": 35,
   "metadata": {},
   "outputs": [],
   "source": [
    "species = \"Escherichia_coli\"; drug=\"trimethoprim\"\n",
    "  \n",
    "gene_pairs=[]\n",
    "with open(f'../../data/temp/SVM_{species}_{drug}_top_1000_gene_pairs.txt', 'r') as f:\n",
    "    for line in f:\n",
    "        gene_pairs.append(tuple(line.strip().split(\"-\")))\n",
    "\n",
    "def extract_genes_from_pairs(gene_pairs:list)->list:\n",
    "    '''\n",
    "    takes a list of gene pairs and returns a list of all genes in the gene pairs\n",
    "\n",
    "    param:\n",
    "    ------\n",
    "        - gene_pairs: list of tuples\n",
    "\n",
    "    return:\n",
    "    ------\n",
    "        - genes: list\n",
    "    '''\n",
    "    genes=[]\n",
    "    for pair in gene_pairs:\n",
    "        gene1=pair[0]\n",
    "        gene2=pair[1]\n",
    "        genes.append(gene1)\n",
    "        genes.append(gene2)\n",
    "\n",
    "    genes= list(set(genes))\n",
    "    return genes\n",
    "\n",
    "genes = extract_genes_from_pairs(gene_pairs)"
   ]
  },
  {
   "cell_type": "code",
   "execution_count": 37,
   "metadata": {},
   "outputs": [
    {
     "data": {
      "text/plain": [
       "1000"
      ]
     },
     "execution_count": 37,
     "metadata": {},
     "output_type": "execute_result"
    }
   ],
   "source": [
    "len(genes)"
   ]
  },
  {
   "cell_type": "code",
   "execution_count": 42,
   "metadata": {},
   "outputs": [],
   "source": [
    "with open(f'../../data/temp/SVM_{species}_{drug}_top_1000_genes.txt', 'r') as f:\n",
    "    gene_list = f.readlines()\n",
    "    genes = [line.strip() for line in gene_list]"
   ]
  }
 ],
 "metadata": {
  "kernelspec": {
   "display_name": "base",
   "language": "python",
   "name": "python3"
  },
  "language_info": {
   "codemirror_mode": {
    "name": "ipython",
    "version": 3
   },
   "file_extension": ".py",
   "mimetype": "text/x-python",
   "name": "python",
   "nbconvert_exporter": "python",
   "pygments_lexer": "ipython3",
   "version": "3.12.2"
  }
 },
 "nbformat": 4,
 "nbformat_minor": 2
}
