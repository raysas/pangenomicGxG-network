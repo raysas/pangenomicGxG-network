{
 "cells": [
  {
   "cell_type": "markdown",
   "metadata": {},
   "source": [
    "# Memoization\n",
    "\n",
    "This notebook is to save variables/dataframes/results that are useed in intermediate analysis, in order to save computational time and avoid re-running the same code multiple times."
   ]
  },
  {
   "cell_type": "markdown",
   "metadata": {},
   "source": [
    "## Imports"
   ]
  },
  {
   "cell_type": "code",
   "execution_count": 1,
   "metadata": {},
   "outputs": [],
   "source": [
    "import sys\n",
    "import os\n",
    "\n",
    "os.chdir(os.path.expanduser(\"~/capstone-project\"))\n",
    "sys.path.append('src')\n",
    "\n",
    "import data_analysis\n",
    "import cluster_analysis\n",
    "\n",
    "species='Escherichia_coli'\n",
    "pan_path=f'data/pangenome_pipeline_output/{species}'"
   ]
  },
  {
   "cell_type": "markdown",
   "metadata": {},
   "source": [
    "## Cluster information\n",
    "\n",
    "Saving the cluster information for _E. coli_ that is common for all the analyses and networks.  \n",
    "These consists of the following for each cluster number:  \n",
    "* pan annotation: core, unique, and accessory\n",
    "* patric id: feature id of the form `fig|\\d+.\\d+.peg.\\d+`\n",
    "* product: description of the gene\n",
    "* frequency: number of genomes in which the gene is present\n",
    "\n",
    "create a filtered derivative to include only the clusters of interest"
   ]
  },
  {
   "cell_type": "code",
   "execution_count": 2,
   "metadata": {},
   "outputs": [],
   "source": [
    "cluster_info_df = cluster_analysis.get_cluster_attributes()\n",
    "cluster_info_df.to_csv(f'data/clusters/{species}_cluster_info.csv', index=True)\n",
    "\n",
    "_, clusters_to_remove= data_analysis.filter_presence_matrix('data/presence_matrices/Escherichia_coli_GxS.csv', memoize=False)\n",
    "\n",
    "cluster_info_df_filtered = cluster_info_df.drop(clusters_to_remove)\n",
    "cluster_info_df_filtered.to_csv(f'data/clusters/{species}_cluster_info_filtered.csv', index=True)"
   ]
  }
 ],
 "metadata": {
  "kernelspec": {
   "display_name": "base",
   "language": "python",
   "name": "python3"
  },
  "language_info": {
   "codemirror_mode": {
    "name": "ipython",
    "version": 3
   },
   "file_extension": ".py",
   "mimetype": "text/x-python",
   "name": "python",
   "nbconvert_exporter": "python",
   "pygments_lexer": "ipython3",
   "version": "3.12.2"
  }
 },
 "nbformat": 4,
 "nbformat_minor": 2
}
