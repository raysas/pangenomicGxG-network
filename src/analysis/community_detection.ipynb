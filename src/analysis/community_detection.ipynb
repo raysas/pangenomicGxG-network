{
 "cells": [
  {
   "cell_type": "markdown",
   "metadata": {},
   "source": [
    "# Community detection\n",
    "\n",
    "This notebook aims to apply community detection algorithms on the different networks, and perform some analysis on communities relating to the GWAS approaches' assocation values"
   ]
  },
  {
   "cell_type": "code",
   "execution_count": 1,
   "metadata": {},
   "outputs": [],
   "source": [
    "import os,sys\n",
    "os.chdir(os.path.expanduser('~/capstone-project'))\n",
    "sys.path.append('src')\n",
    "\n",
    "import networkx as nx\n",
    "import pandas as pd\n",
    "import random\n",
    "\n",
    "import network_analysis\n",
    "import gene_associations\n",
    "\n",
    "species='Escherichia_coli'\n",
    "\n",
    "G_streptomycin = nx.read_graphml(f'results/{species}_streptomycin/{species}_streptomycin_LOR_assoc.graphml')\n",
    "G_sulfamethoxazole = nx.read_graphml(f'results/{species}_sulfamethoxazole/{species}_sulfamethoxazole_LOR_assoc.graphml')\n",
    "G_tetracycline = nx.read_graphml(f'results/{species}_tetracycline/{species}_tetracycline_LOR_assoc.graphml')\n",
    "G_cefalothin = nx.read_graphml(f'results/{species}_cefalothin/{species}_cefalothin_LOR_assoc.graphml')\n",
    "G_trimethoprim= nx.read_graphml(f'results/{species}_trimethoprim/{species}_trimethoprim_LOR_assoc.graphml')\n",
    "G_amoxicillin = nx.read_graphml(f'results/{species}_amoxicillin/{species}_amoxicillin_LOR_assoc.graphml')\n",
    "G_ampicillin = nx.read_graphml(f'results/{species}_ampicillin/{species}_ampicillin_LOR_assoc.graphml')\n",
    "G_levofloxacin = nx.read_graphml(f'results/{species}_levofloxacin/{species}_levofloxacin_LOR_assoc.graphml')\n",
    "G_ciprofloxacin = nx.read_graphml(f'results/{species}_ciprofloxacin/{species}_ciprofloxacin_LOR_assoc.graphml')\n",
    "\n",
    "G_dict ={\n",
    "    'Streptomycin': G_streptomycin,\n",
    "    'Sulfamethoxazole': G_sulfamethoxazole,\n",
    "    'Tetracycline': G_tetracycline,\n",
    "    'Cefalothin': G_cefalothin,\n",
    "    'Trimethoprim': G_trimethoprim,\n",
    "    'Amoxicillin': G_amoxicillin,\n",
    "    'Ampicillin': G_ampicillin,\n",
    "    'Levofloxacin': G_levofloxacin,\n",
    "    'Ciprofloxacin': G_ciprofloxacin\n",
    "}\n",
    "\n",
    "drugs = list(G_dict.keys())"
   ]
  },
  {
   "cell_type": "code",
   "execution_count": 69,
   "metadata": {},
   "outputs": [],
   "source": [
    "df_dict = {}\n",
    "for drug in drugs:\n",
    "    drug=drug.lower() \n",
    "    df_dict[drug] = pd.read_csv(f'results/{species}_{drug}/{species}_{drug}_ARGs_all.csv', index_col=0)\n",
    "    df_dict[drug].index = [f'{index} ({drug})' for index in df_dict[drug].index]\n",
    "# concat all dfs in df_dict having the same colnames\n",
    "dfs = [df for df in df_dict.values()]\n",
    "df = pd.concat(dfs, axis=0, join='inner')\n",
    "df.to_csv(f'results/{species}_all_ARGs.csv')\n",
    "df = df[(df.iloc[:,0:4]<100).any(axis=1)]\n",
    "df.to_csv(f'results/{species}_all_ARGs_filtered_top100.csv')"
   ]
  },
  {
   "cell_type": "code",
   "execution_count": 62,
   "metadata": {},
   "outputs": [],
   "source": [
    "df_dict = {}\n",
    "for drug in drugs:\n",
    "    drug=drug.lower() \n",
    "    df_dict[drug] = pd.read_csv(f'results/{species}_{drug}/{species}_{drug}_ARGs_all.csv', index_col=0)\n"
   ]
  },
  {
   "cell_type": "code",
   "execution_count": 63,
   "metadata": {},
   "outputs": [],
   "source": [
    "# concat all dfs in df_dict having the same colnames\n",
    "dfs = [df for df in df_dict.values()]\n",
    "df = pd.concat(dfs, axis=0, join='inner')\n",
    "df.to_csv(f'results/{species}_all_ARGs.csv')"
   ]
  },
  {
   "cell_type": "code",
   "execution_count": 65,
   "metadata": {},
   "outputs": [],
   "source": [
    "# filter out all those where no number <50 is present in the 1st 3 cols\n",
    "df = df[(df.iloc[:,0:4]<50).any(axis=1)]\n",
    "df.shape\n",
    "# df.to_csv(f'results/{species}_all_ARGs_filtered_top50.csv')"
   ]
  },
  {
   "cell_type": "markdown",
   "metadata": {},
   "source": [
    "## Louvain"
   ]
  },
  {
   "cell_type": "code",
   "execution_count": 2,
   "metadata": {},
   "outputs": [
    {
     "name": "stdout",
     "output_type": "stream",
     "text": [
      "-- Streptomycin seed: 584 modularity: 0.826092843973986\n",
      "-- Streptomycin seed: 899 modularity: 0.8260969780629175\n",
      "-- Streptomycin seed: 948 modularity: 0.8262043934291476\n",
      "-- Streptomycin seed: 511 modularity: 0.8261184148014172\n",
      "-- Streptomycin seed: 320 modularity: 0.8260565247136508\n",
      "-- Streptomycin seed: 439 modularity: 0.8261524846051811\n",
      "-- Streptomycin seed: 764 modularity: 0.8258982854310966\n",
      "-- Streptomycin seed: 450 modularity: 0.8259145949099586\n",
      "-- Streptomycin seed: 690 modularity: 0.8258238430127072\n",
      "-- Streptomycin seed: 661 modularity: 0.8263472073981944\n",
      "\n",
      "-- Streptomycin best seed: 661 modularity: 0.8263472073981944\n"
     ]
    }
   ],
   "source": [
    "def get_best_community_split(G, num_of_trials=10, net_name=''):\n",
    "    '''\n",
    "    This function takes in a graph and n, it splits the graph into communities using louvain & n different seeds\n",
    "    the split with the highest modularity is taken\n",
    "\n",
    "    param:\n",
    "    -----\n",
    "    - G: nx.Graph\n",
    "    - num_of_trials: int (optional - default 10)\n",
    "    - net_name: str (optional)\n",
    "\n",
    "    return:\n",
    "    -----\n",
    "    - best_split: dict\n",
    "    - best_seed: int\n",
    "    '''\n",
    "    seeds = random.sample(range(1000), num_of_trials)\n",
    "    best_split = {}; best_Q=0;best_seed=seeds[0]\n",
    "\n",
    "    for s in seeds:\n",
    "        split = nx.algorithms.community.louvain_communities(G, seed=s)\n",
    "        Q = nx.algorithms.community.quality.modularity(G, split)\n",
    "        print(f'-- {net_name} seed: {s} modularity: {Q}')\n",
    "\n",
    "        if Q > best_Q:\n",
    "            best_Q = Q\n",
    "            best_split = split\n",
    "            best_seed = s\n",
    "                    \n",
    "    print(f'\\n-- {net_name} best seed: {best_seed} modularity: {best_Q}')\n",
    "    return best_split, best_seed\n",
    "\n",
    "streptomycin_split = get_best_community_split(G_streptomycin, num_of_trials=10, net_name='Streptomycin')\n",
    "streptomycin_com = streptomycin_split[0]"
   ]
  },
  {
   "cell_type": "code",
   "execution_count": 109,
   "metadata": {},
   "outputs": [
    {
     "name": "stdout",
     "output_type": "stream",
     "text": [
      "Community 1 has 233 nodes\n",
      "Community 3 has 113 nodes\n",
      "Community 4 has 152 nodes\n",
      "Community 5 has 46 nodes\n",
      "Community 6 has 350 nodes\n",
      "Community 7 has 104 nodes\n",
      "Community 8 has 21 nodes\n",
      "Community 9 has 135 nodes\n",
      "Community 10 has 285 nodes\n",
      "Community 11 has 249 nodes\n",
      "Community 12 has 303 nodes\n",
      "Community 14 has 397 nodes\n",
      "Community 15 has 431 nodes\n",
      "Community 16 has 251 nodes\n",
      "Community 17 has 11 nodes\n",
      "Community 18 has 149 nodes\n",
      "Community 19 has 217 nodes\n",
      "Community 20 has 24 nodes\n",
      "Community 22 has 204 nodes\n",
      "Community 23 has 276 nodes\n",
      "Community 24 has 135 nodes\n",
      "Community 27 has 116 nodes\n",
      "Community 30 has 170 nodes\n",
      "Community 31 has 65 nodes\n",
      "Community 38 has 98 nodes\n"
     ]
    }
   ],
   "source": [
    "def get_communities_stats(communities):\n",
    "    '''\n",
    "    This function takes in a list of communities and returns the number of communities and the number of nodes in each community\n",
    "\n",
    "    param:\n",
    "    -----\n",
    "    - communities: list\n",
    "\n",
    "    return:\n",
    "    -----\n",
    "    - num_communities: int\n",
    "    - community_sizes: list\n",
    "    '''\n",
    "    num_communities = len(communities)\n",
    "    community_sizes = [len(c) for c in communities]\n",
    "    # print(f'Number of communities: {num_communities}')\n",
    "    # print(f'Community sizes: {community_sizes}')\n",
    "    return num_communities, community_sizes\n",
    "\n",
    "streptomycin_list=get_communities_stats(streptomycin_split[0])[1]\n",
    "for i in range(len(streptomycin_list)):\n",
    "    if streptomycin_list[i] > 10:\n",
    "        print(f'Community {i+1} has {streptomycin_list[i]} nodes')"
   ]
  },
  {
   "cell_type": "code",
   "execution_count": 3,
   "metadata": {},
   "outputs": [
    {
     "data": {
      "text/plain": [
       "1"
      ]
     },
     "execution_count": 3,
     "metadata": {},
     "output_type": "execute_result"
    }
   ],
   "source": [
    "def get_cluster_LOR(cluster_name, G=G_streptomycin, drug='streptomycin'):\n",
    "    '''\n",
    "    This function takes in a cluster name and a graph and returns the LOR of the cluster\n",
    "\n",
    "    param:\n",
    "    -----\n",
    "    - cluster_name: str\n",
    "    - G: nx.Graph\n",
    "\n",
    "    return:\n",
    "    -----\n",
    "    - cluster_LOR: float\n",
    "    '''\n",
    "    cluster_LOR = G.nodes[cluster_name][f'log_odds_{drug}_resistance']\n",
    "    return cluster_LOR\n",
    "\n",
    "def binarize_LOR(lor):\n",
    "    '''\n",
    "    This function takes in a LOR and returns 1 if the LOR is greater than 0 and 0 otherwise\n",
    "\n",
    "    param:\n",
    "    -----\n",
    "    - lor: float\n",
    "\n",
    "    return:\n",
    "    -----\n",
    "    - binary_lor: int\n",
    "    '''\n",
    "    binary_lor = 1 if lor > 0 else 0\n",
    "    return binary_lor\n",
    "\n",
    "binarize_LOR(get_cluster_LOR('Cluster 10314'))"
   ]
  },
  {
   "cell_type": "code",
   "execution_count": 136,
   "metadata": {},
   "outputs": [
    {
     "name": "stdout",
     "output_type": "stream",
     "text": [
      "Homogeneity Score: 0.19931970304881244\n"
     ]
    }
   ],
   "source": [
    "import networkx as nx\n",
    "from sklearn.metrics import homogeneity_score\n",
    "from networkx.algorithms.community import louvain_communities\n",
    "\n",
    "# Example network and attribute setup\n",
    "G = nx.karate_club_graph()\n",
    "# Assume that each node has a continuous attribute 'value'\n",
    "for node in G.nodes:\n",
    "    G.nodes[node]['value'] = node % 10  # Example attribute\n",
    "    # print(node)\n",
    "\n",
    "# Detect communities using the Louvain method\n",
    "communities = louvain_communities(G, seed=42)  # You can specify a seed for reproducibility\n",
    "\n",
    "# Create a mapping of node to community\n",
    "community_map = {}\n",
    "for community_id, community in enumerate(communities):\n",
    "    for node in community:\n",
    "        community_map[node] = community_id\n",
    "\n",
    "# Extract node attributes and community labels\n",
    "attribute_values = [G.nodes[node]['value'] for node in G.nodes]\n",
    "community_labels = [community_map[node] for node in G.nodes]\n",
    "\n",
    "# print(attribute_values)\n",
    "# print(community_labels)\n",
    "\n",
    "# Calculate homogeneity score\n",
    "homogeneity = homogeneity_score(attribute_values, community_labels)\n",
    "print(f\"Homogeneity Score: {homogeneity}\")\n"
   ]
  },
  {
   "cell_type": "code",
   "execution_count": 5,
   "metadata": {},
   "outputs": [
    {
     "name": "stdout",
     "output_type": "stream",
     "text": [
      "-- Streptomycin seed: 39 modularity: 0.8258753825946952\n",
      "-- Streptomycin seed: 964 modularity: 0.8261148426966743\n",
      "-- Streptomycin seed: 887 modularity: 0.8262147763896602\n",
      "-- Streptomycin seed: 42 modularity: 0.8256057090911123\n",
      "-- Streptomycin seed: 771 modularity: 0.8261523719968902\n",
      "-- Streptomycin seed: 839 modularity: 0.8262623187228579\n",
      "-- Streptomycin seed: 498 modularity: 0.8257795827002077\n",
      "-- Streptomycin seed: 285 modularity: 0.8260113825329051\n",
      "-- Streptomycin seed: 493 modularity: 0.8262599371219881\n",
      "-- Streptomycin seed: 163 modularity: 0.8260974020360814\n",
      "\n",
      "-- Streptomycin best seed: 839 modularity: 0.8262623187228579\n",
      "-- Sulfamethoxazole seed: 611 modularity: 0.8134282834150731\n",
      "-- Sulfamethoxazole seed: 714 modularity: 0.8132383619157606\n",
      "-- Sulfamethoxazole seed: 170 modularity: 0.8132570281856087\n",
      "-- Sulfamethoxazole seed: 454 modularity: 0.8134191015380259\n",
      "-- Sulfamethoxazole seed: 161 modularity: 0.8135507217028362\n",
      "-- Sulfamethoxazole seed: 40 modularity: 0.8136220162552951\n",
      "-- Sulfamethoxazole seed: 138 modularity: 0.8133181631026816\n",
      "-- Sulfamethoxazole seed: 320 modularity: 0.8123255927782725\n",
      "-- Sulfamethoxazole seed: 709 modularity: 0.8134120836754575\n",
      "-- Sulfamethoxazole seed: 159 modularity: 0.813511083639476\n",
      "\n",
      "-- Sulfamethoxazole best seed: 40 modularity: 0.8136220162552951\n",
      "-- Tetracycline seed: 915 modularity: 0.885622422784444\n",
      "-- Tetracycline seed: 251 modularity: 0.8881574661428978\n",
      "-- Tetracycline seed: 680 modularity: 0.8873407568705572\n",
      "-- Tetracycline seed: 594 modularity: 0.8871325771348734\n",
      "-- Tetracycline seed: 956 modularity: 0.8871585054641955\n",
      "-- Tetracycline seed: 687 modularity: 0.8875446467486136\n",
      "-- Tetracycline seed: 291 modularity: 0.8880357381864712\n",
      "-- Tetracycline seed: 539 modularity: 0.8885694239161387\n",
      "-- Tetracycline seed: 351 modularity: 0.8872937031192815\n",
      "-- Tetracycline seed: 225 modularity: 0.8878041800975212\n",
      "\n",
      "-- Tetracycline best seed: 539 modularity: 0.8885694239161387\n",
      "-- Cefalothin seed: 957 modularity: 0.9146633391715121\n",
      "-- Cefalothin seed: 254 modularity: 0.9150156281154976\n",
      "-- Cefalothin seed: 797 modularity: 0.9147479215542346\n",
      "-- Cefalothin seed: 652 modularity: 0.9150625921121054\n",
      "-- Cefalothin seed: 285 modularity: 0.914126177003578\n",
      "-- Cefalothin seed: 520 modularity: 0.9151621988889592\n",
      "-- Cefalothin seed: 609 modularity: 0.9148770925645879\n",
      "-- Cefalothin seed: 684 modularity: 0.9150595657954385\n",
      "-- Cefalothin seed: 967 modularity: 0.9149721431054312\n",
      "-- Cefalothin seed: 930 modularity: 0.9147345027835498\n",
      "\n",
      "-- Cefalothin best seed: 520 modularity: 0.9151621988889592\n",
      "-- Trimethoprim seed: 618 modularity: 0.9195073735615558\n",
      "-- Trimethoprim seed: 839 modularity: 0.9203531231599339\n",
      "-- Trimethoprim seed: 165 modularity: 0.9194742897023057\n",
      "-- Trimethoprim seed: 766 modularity: 0.9205924829014019\n",
      "-- Trimethoprim seed: 25 modularity: 0.920356600796258\n",
      "-- Trimethoprim seed: 125 modularity: 0.9205821594394404\n",
      "-- Trimethoprim seed: 343 modularity: 0.9206133097749892\n",
      "-- Trimethoprim seed: 749 modularity: 0.920601162132728\n",
      "-- Trimethoprim seed: 534 modularity: 0.9203669242582195\n",
      "-- Trimethoprim seed: 528 modularity: 0.9205821594394404\n",
      "\n",
      "-- Trimethoprim best seed: 343 modularity: 0.9206133097749892\n",
      "-- Amoxicillin seed: 85 modularity: 0.9251599330173069\n",
      "-- Amoxicillin seed: 990 modularity: 0.9252614682779852\n",
      "-- Amoxicillin seed: 900 modularity: 0.9251599330173069\n",
      "-- Amoxicillin seed: 974 modularity: 0.9251599330173069\n",
      "-- Amoxicillin seed: 591 modularity: 0.9251599330173069\n",
      "-- Amoxicillin seed: 971 modularity: 0.9251599330173069\n",
      "-- Amoxicillin seed: 82 modularity: 0.9251599330173069\n",
      "-- Amoxicillin seed: 938 modularity: 0.9251599330173069\n",
      "-- Amoxicillin seed: 559 modularity: 0.9252614682779852\n",
      "-- Amoxicillin seed: 153 modularity: 0.9251512515426239\n",
      "\n",
      "-- Amoxicillin best seed: 990 modularity: 0.9252614682779852\n",
      "-- Ampicillin seed: 198 modularity: 0.8573243449276863\n",
      "-- Ampicillin seed: 296 modularity: 0.8573362696626178\n",
      "-- Ampicillin seed: 294 modularity: 0.8573002297142307\n",
      "-- Ampicillin seed: 220 modularity: 0.8573243449276863\n",
      "-- Ampicillin seed: 100 modularity: 0.8568376595966974\n",
      "-- Ampicillin seed: 414 modularity: 0.8568495843316288\n",
      "-- Ampicillin seed: 654 modularity: 0.857310459813126\n",
      "-- Ampicillin seed: 167 modularity: 0.8573166611272472\n",
      "-- Ampicillin seed: 416 modularity: 0.8573362696626178\n",
      "-- Ampicillin seed: 448 modularity: 0.8573243449276863\n",
      "\n",
      "-- Ampicillin best seed: 296 modularity: 0.8573362696626178\n",
      "-- Levofloxacin seed: 716 modularity: 0.8588238321550817\n",
      "-- Levofloxacin seed: 794 modularity: 0.8577513686510965\n",
      "-- Levofloxacin seed: 387 modularity: 0.8556581187608491\n",
      "-- Levofloxacin seed: 368 modularity: 0.8582146037893262\n",
      "-- Levofloxacin seed: 63 modularity: 0.8583844014367359\n",
      "-- Levofloxacin seed: 101 modularity: 0.8578468152731138\n",
      "-- Levofloxacin seed: 832 modularity: 0.8576942615742138\n",
      "-- Levofloxacin seed: 3 modularity: 0.8565484431770242\n",
      "-- Levofloxacin seed: 909 modularity: 0.8548038887405037\n",
      "-- Levofloxacin seed: 753 modularity: 0.8580728902804076\n",
      "\n",
      "-- Levofloxacin best seed: 716 modularity: 0.8588238321550817\n",
      "-- Ciprofloxacin seed: 86 modularity: 0.927632192580454\n",
      "-- Ciprofloxacin seed: 133 modularity: 0.927570397230081\n",
      "-- Ciprofloxacin seed: 629 modularity: 0.9275839711320961\n",
      "-- Ciprofloxacin seed: 685 modularity: 0.9270531119158085\n",
      "-- Ciprofloxacin seed: 464 modularity: 0.9274846838456045\n",
      "-- Ciprofloxacin seed: 13 modularity: 0.9276761659636283\n",
      "-- Ciprofloxacin seed: 664 modularity: 0.9275679385589006\n",
      "-- Ciprofloxacin seed: 184 modularity: 0.9272762613360684\n",
      "-- Ciprofloxacin seed: 506 modularity: 0.9276149913475848\n",
      "-- Ciprofloxacin seed: 122 modularity: 0.9270939058569185\n",
      "\n",
      "-- Ciprofloxacin best seed: 13 modularity: 0.9276761659636283\n"
     ]
    }
   ],
   "source": [
    "streptomycin_seed=get_best_community_split(G_streptomycin, num_of_trials=10, net_name='Streptomycin')[1]\n",
    "sulfamethoxazole_seed=get_best_community_split(G_sulfamethoxazole, num_of_trials=10, net_name='Sulfamethoxazole')[1]\n",
    "tetracycline_seed=get_best_community_split(G_tetracycline, num_of_trials=10, net_name='Tetracycline')[1]\n",
    "cefalothin_seed=get_best_community_split(G_cefalothin, num_of_trials=10, net_name='Cefalothin')[1]\n",
    "trimethoprim_seed=get_best_community_split(G_trimethoprim, num_of_trials=10, net_name='Trimethoprim')[1]\n",
    "amoxicillin_seed=get_best_community_split(G_amoxicillin, num_of_trials=10, net_name='Amoxicillin')[1]\n",
    "ampicillin_seed=get_best_community_split(G_ampicillin, num_of_trials=10, net_name='Ampicillin')[1]\n",
    "levofloxacin_seed=get_best_community_split(G_levofloxacin, num_of_trials=10, net_name='Levofloxacin')[1]\n",
    "ciprofloxacin_seed=get_best_community_split(G_ciprofloxacin, num_of_trials=10, net_name='Ciprofloxacin')[1]"
   ]
  },
  {
   "cell_type": "code",
   "execution_count": 11,
   "metadata": {},
   "outputs": [
    {
     "name": "stdout",
     "output_type": "stream",
     "text": [
      "--louvain--\n",
      "Homogeneity Score for streptomycin (seed=839): 0.17631373655162563\n",
      "Homogeneity Score for sulfamethoxazole (seed=40): 0.0889398351001113\n",
      "Homogeneity Score for tetracycline (seed=539): 0.23316924743305492\n",
      "Homogeneity Score for cefalothin (seed=520): 0.2703482986922702\n",
      "Homogeneity Score for trimethoprim (seed=343): 0.18092695833939496\n",
      "Homogeneity Score for amoxicillin (seed=990): 0.46522419642057233\n",
      "Homogeneity Score for ampicillin (seed=296): 0.34225204761454037\n",
      "Homogeneity Score for levofloxacin (seed=716): 0.16739540125487223\n",
      "Homogeneity Score for ciprofloxacin (seed=13): 0.4210368542545877\n",
      "-- label propagation --\n",
      "Homogeneity Score for streptomycin (seed=839): 0.24899525914952023\n",
      "Homogeneity Score for sulfamethoxazole (seed=40): 0.2225090693067487\n",
      "Homogeneity Score for tetracycline (seed=539): 0.3770791816732054\n",
      "Homogeneity Score for cefalothin (seed=520): 0.3995650819568064\n",
      "Homogeneity Score for trimethoprim (seed=343): 0.334795160096646\n",
      "Homogeneity Score for amoxicillin (seed=990): 0.532690787720854\n",
      "Homogeneity Score for ampicillin (seed=296): 0.49264336615793086\n",
      "Homogeneity Score for levofloxacin (seed=716): 0.3099763435886011\n",
      "Homogeneity Score for ciprofloxacin (seed=13): 0.5105568237967835\n"
     ]
    }
   ],
   "source": [
    "from sklearn.metrics import homogeneity_score\n",
    "\n",
    "def get_homogeneity_louvain(G, s, drug, approach='log_odds'):\n",
    "\n",
    "    if approach == 'log_odds':\n",
    "        approach = f'log_odds_{drug}_resistance'\n",
    "    elif approach.lower() == 'anova':\n",
    "        approach = f'Anova_corrected_pval'\n",
    "    elif approach.lower() == 'chi2':\n",
    "        approach = f'chi2_corrected_pval'\n",
    "    elif approach.upper() == 'MI':\n",
    "        approach = f'MI'\n",
    "\n",
    "    communities = nx.algorithms.community.louvain_communities(G, seed=s)  # You can specify a seed for reproducibility\n",
    "\n",
    "    community_map = {}\n",
    "    for community_id, community in enumerate(communities):\n",
    "        for node in community:\n",
    "            community_map[node] = community_id\n",
    "\n",
    "    attribute_values = [G.nodes[node][approach] for node in G.nodes]\n",
    "    attribute_values = [1 if value > 0.5 else 0 for value in attribute_values]  # Convert positive values to 1 and negative values to 0\n",
    "\n",
    "    community_labels = [community_map[node] for node in G.nodes]\n",
    "\n",
    "    # print(f\"Attribute values: {attribute_values}\")\n",
    "    # print(f\"Community labels: {community_labels}\")\n",
    "    # print(len(community_labels), len(attribute_values)) \n",
    "\n",
    "    # Calculate homogeneity score\n",
    "    homogeneity = homogeneity_score(attribute_values, community_labels)\n",
    "    print(f\"Homogeneity Score for {drug} (seed={s}): {homogeneity}\")\n",
    "    return homogeneity\n",
    "\n",
    "def get_homogeneity_GN(G, s, drug, approach='log_odds'):\n",
    "\n",
    "    if approach == 'log_odds':\n",
    "        approach = f'log_odds_{drug}_resistance'\n",
    "    elif approach.lower() == 'anova':\n",
    "        approach = f'Anova_corrected_pval'\n",
    "    elif approach.lower() == 'chi2':\n",
    "        approach = f'chi2_corrected_pval'\n",
    "    elif approach.upper() == 'MI':\n",
    "        approach = f'MI'\n",
    "\n",
    "    communities = nx.algorithms.community.label_propagation.label_propagation_communities(G ) # You can specify a seed for reproducibility\n",
    "\n",
    "    community_map = {}\n",
    "    for community_id, community in enumerate(communities):\n",
    "        for node in community:\n",
    "            community_map[node] = community_id\n",
    "\n",
    "    attribute_values = [G.nodes[node][approach] for node in G.nodes]\n",
    "    attribute_values = [1 if value > 0.5 else 0 for value in attribute_values]  # Convert positive values to 1 and negative values to 0\n",
    "\n",
    "    community_labels = [community_map[node] for node in G.nodes]\n",
    "\n",
    "    # print(f\"Attribute values: {attribute_values}\")\n",
    "    # print(f\"Community labels: {community_labels}\")\n",
    "    # print(len(community_labels), len(attribute_values)) \n",
    "\n",
    "    # Calculate homogeneity score\n",
    "    homogeneity = homogeneity_score(attribute_values, community_labels)\n",
    "    print(f\"Homogeneity Score for {drug} (seed={s}): {homogeneity}\")\n",
    "    return homogeneity\n",
    "\n",
    "\n",
    "print('--louvain--')\n",
    "streptomycin_homogeneity=get_homogeneity_louvain(G_streptomycin, streptomycin_seed, 'streptomycin')\n",
    "sulfamethoxazole_homogeneity=get_homogeneity_louvain(G_sulfamethoxazole, sulfamethoxazole_seed, 'sulfamethoxazole')\n",
    "tetracycline_homogeneity=get_homogeneity_louvain(G_tetracycline, tetracycline_seed, 'tetracycline')\n",
    "cefalothin_homogeneity=get_homogeneity_louvain(G_cefalothin, cefalothin_seed, 'cefalothin')\n",
    "trimethoprim_homogeneity=get_homogeneity_louvain(G_trimethoprim, trimethoprim_seed, 'trimethoprim')\n",
    "amoxicillin_homogeneity=get_homogeneity_louvain(G_amoxicillin, amoxicillin_seed, 'amoxicillin')\n",
    "ampicillin_homogeneity=get_homogeneity_louvain(G_ampicillin, ampicillin_seed, 'ampicillin')\n",
    "levofloxacin_homogeneity=get_homogeneity_louvain(G_levofloxacin, levofloxacin_seed, 'levofloxacin')\n",
    "ciprofloxacin_homogeneity=get_homogeneity_louvain(G_ciprofloxacin, ciprofloxacin_seed, 'ciprofloxacin')\n",
    "\n",
    "print('-- label propagation --')\n",
    "\n",
    "streptomycin_homogeneity_GN=get_homogeneity_GN(G_streptomycin, streptomycin_seed, 'streptomycin')\n",
    "sulfamethoxazole_homogeneity_GN=get_homogeneity_GN(G_sulfamethoxazole, sulfamethoxazole_seed, 'sulfamethoxazole')\n",
    "tetracycline_homogeneity_GN=get_homogeneity_GN(G_tetracycline, tetracycline_seed, 'tetracycline')\n",
    "cefalothin_homogeneity_GN=get_homogeneity_GN(G_cefalothin, cefalothin_seed, 'cefalothin')\n",
    "trimethoprim_homogeneity_GN=get_homogeneity_GN(G_trimethoprim, trimethoprim_seed, 'trimethoprim')\n",
    "amoxicillin_homogeneity_GN=get_homogeneity_GN(G_amoxicillin, amoxicillin_seed, 'amoxicillin')\n",
    "ampicillin_homogeneity_GN=get_homogeneity_GN(G_ampicillin, ampicillin_seed, 'ampicillin')\n",
    "levofloxacin_homogeneity_GN=get_homogeneity_GN(G_levofloxacin, levofloxacin_seed, 'levofloxacin')\n",
    "ciprofloxacin_homogeneity_GN=get_homogeneity_GN(G_ciprofloxacin, ciprofloxacin_seed, 'ciprofloxacin')"
   ]
  },
  {
   "cell_type": "code",
   "execution_count": null,
   "metadata": {},
   "outputs": [],
   "source": [
    "from sklearn.metrics import homogeneity_score\n",
    "\n"
   ]
  },
  {
   "cell_type": "code",
   "execution_count": 89,
   "metadata": {},
   "outputs": [
    {
     "data": {
      "image/png": "[encoded data removed]",
      "text/plain": [
       "<Figure size 640x480 with 1 Axes>"
      ]
     },
     "metadata": {},
     "output_type": "display_data"
    }
   ],
   "source": [
    "mi_all=[];chi2_p_all=[];anova_p_all=[];log_odds_all=[]\n",
    "for c in streptomycin_split[0]:\n",
    "    # c is a set of nodes btw..\n",
    "    if len(c) > 10:\n",
    "        mi=[];chi2_p=[];anova_p=[];log_odds=[]\n",
    "        for cluster in c:\n",
    "            # mi.append(G_streptomycin.nodes(data=True)[cluster]['MI'])\n",
    "            # chi2_p.append(G_streptomycin.nodes(data=True)[cluster]['log_odds_streptomycin_resistance'])\n",
    "            # anova_p.append(G_streptomycin.nodes(data=True)[cluster]['Anova_corrected_pval'])\n",
    "            log_odds.append(G_streptomycin.nodes(data=True)[cluster]['log_odds_streptomycin_resistance'])\n",
    "        # mi_all.append(mi)\n",
    "        # chi2_p_all.append(chi2_p)\n",
    "        # anova_p_all.append(anova_p)\n",
    "        log_odds_all.append(log_odds)\n",
    "\n",
    "# for each array in mi plot boxplot\n",
    "import matplotlib.pyplot as plt\n",
    "# plt.boxplot(mi_all)\n",
    "# plt.show()\n",
    "\n",
    "# plt.boxplot(chi2_p_all)\n",
    "# plt.show()\n",
    "\n",
    "# plt.boxplot(anova_p_all)\n",
    "# plt.show()\n",
    "\n",
    "plt.boxplot(log_odds_all)\n",
    "plt.show()"
   ]
  },
  {
   "cell_type": "markdown",
   "metadata": {},
   "source": [
    "## robustness analysis\n",
    "\n"
   ]
  },
  {
   "cell_type": "code",
   "execution_count": 20,
   "metadata": {},
   "outputs": [
    {
     "data": {
      "application/vnd.plotly.v1+json": {
       "config": {
        "plotlyServerURL": "https://plot.ly"
       },
       "data": [
        {
         "line": {
          "color": "#E43C42"
         },
         "type": "scatter",
         "x": [
          0,
          1,
          2,
          3,
          4,
          5,
          6,
          7,
          8,
          9,
          10,
          11,
          12,
          13,
          14,
          15,
          16,
          17,
          18,
          19
         ],
         "y": [
          4469,
          4428,
          4389,
          4340,
          4293,
          4249,
          4177,
          4112,
          4059,
          3989,
          3934,
          3857,
          3795,
          3743,
          3666,
          3605,
          3533,
          3450,
          3370,
          3285
         ]
        }
       ],
       "layout": {
        "autosize": false,
        "height": 800,
        "template": {
         "data": {
          "bar": [
           {
            "error_x": {
             "color": "#2a3f5f"
            },
            "error_y": {
             "color": "#2a3f5f"
            },
            "marker": {
             "line": {
              "color": "#E5ECF6",
              "width": 0.5
             },
             "pattern": {
              "fillmode": "overlay",
              "size": 10,
              "solidity": 0.2
             }
            },
            "type": "bar"
           }
          ],
          "barpolar": [
           {
            "marker": {
             "line": {
              "color": "#E5ECF6",
              "width": 0.5
             },
             "pattern": {
              "fillmode": "overlay",
              "size": 10,
              "solidity": 0.2
             }
            },
            "type": "barpolar"
           }
          ],
          "carpet": [
           {
            "aaxis": {
             "endlinecolor": "#2a3f5f",
             "gridcolor": "white",
             "linecolor": "white",
             "minorgridcolor": "white",
             "startlinecolor": "#2a3f5f"
            },
            "baxis": {
             "endlinecolor": "#2a3f5f",
             "gridcolor": "white",
             "linecolor": "white",
             "minorgridcolor": "white",
             "startlinecolor": "#2a3f5f"
            },
            "type": "carpet"
           }
          ],
          "choropleth": [
           {
            "colorbar": {
             "outlinewidth": 0,
             "ticks": ""
            },
            "type": "choropleth"
           }
          ],
          "contour": [
           {
            "colorbar": {
             "outlinewidth": 0,
             "ticks": ""
            },
            "colorscale": [
             [
              0,
              "#0d0887"
             ],
             [
              0.1111111111111111,
              "#46039f"
             ],
             [
              0.2222222222222222,
              "#7201a8"
             ],
             [
              0.3333333333333333,
              "#9c179e"
             ],
             [
              0.4444444444444444,
              "#bd3786"
             ],
             [
              0.5555555555555556,
              "#d8576b"
             ],
             [
              0.6666666666666666,
              "#ed7953"
             ],
             [
              0.7777777777777778,
              "#fb9f3a"
             ],
             [
              0.8888888888888888,
              "#fdca26"
             ],
             [
              1,
              "#f0f921"
             ]
            ],
            "type": "contour"
           }
          ],
          "contourcarpet": [
           {
            "colorbar": {
             "outlinewidth": 0,
             "ticks": ""
            },
            "type": "contourcarpet"
           }
          ],
          "heatmap": [
           {
            "colorbar": {
             "outlinewidth": 0,
             "ticks": ""
            },
            "colorscale": [
             [
              0,
              "#0d0887"
             ],
             [
              0.1111111111111111,
              "#46039f"
             ],
             [
              0.2222222222222222,
              "#7201a8"
             ],
             [
              0.3333333333333333,
              "#9c179e"
             ],
             [
              0.4444444444444444,
              "#bd3786"
             ],
             [
              0.5555555555555556,
              "#d8576b"
             ],
             [
              0.6666666666666666,
              "#ed7953"
             ],
             [
              0.7777777777777778,
              "#fb9f3a"
             ],
             [
              0.8888888888888888,
              "#fdca26"
             ],
             [
              1,
              "#f0f921"
             ]
            ],
            "type": "heatmap"
           }
          ],
          "heatmapgl": [
           {
            "colorbar": {
             "outlinewidth": 0,
             "ticks": ""
            },
            "colorscale": [
             [
              0,
              "#0d0887"
             ],
             [
              0.1111111111111111,
              "#46039f"
             ],
             [
              0.2222222222222222,
              "#7201a8"
             ],
             [
              0.3333333333333333,
              "#9c179e"
             ],
             [
              0.4444444444444444,
              "#bd3786"
             ],
             [
              0.5555555555555556,
              "#d8576b"
             ],
             [
              0.6666666666666666,
              "#ed7953"
             ],
             [
              0.7777777777777778,
              "#fb9f3a"
             ],
             [
              0.8888888888888888,
              "#fdca26"
             ],
             [
              1,
              "#f0f921"
             ]
            ],
            "type": "heatmapgl"
           }
          ],
          "histogram": [
           {
            "marker": {
             "pattern": {
              "fillmode": "overlay",
              "size": 10,
              "solidity": 0.2
             }
            },
            "type": "histogram"
           }
          ],
          "histogram2d": [
           {
            "colorbar": {
             "outlinewidth": 0,
             "ticks": ""
            },
            "colorscale": [
             [
              0,
              "#0d0887"
             ],
             [
              0.1111111111111111,
              "#46039f"
             ],
             [
              0.2222222222222222,
              "#7201a8"
             ],
             [
              0.3333333333333333,
              "#9c179e"
             ],
             [
              0.4444444444444444,
              "#bd3786"
             ],
             [
              0.5555555555555556,
              "#d8576b"
             ],
             [
              0.6666666666666666,
              "#ed7953"
             ],
             [
              0.7777777777777778,
              "#fb9f3a"
             ],
             [
              0.8888888888888888,
              "#fdca26"
             ],
             [
              1,
              "#f0f921"
             ]
            ],
            "type": "histogram2d"
           }
          ],
          "histogram2dcontour": [
           {
            "colorbar": {
             "outlinewidth": 0,
             "ticks": ""
            },
            "colorscale": [
             [
              0,
              "#0d0887"
             ],
             [
              0.1111111111111111,
              "#46039f"
             ],
             [
              0.2222222222222222,
              "#7201a8"
             ],
             [
              0.3333333333333333,
              "#9c179e"
             ],
             [
              0.4444444444444444,
              "#bd3786"
             ],
             [
              0.5555555555555556,
              "#d8576b"
             ],
             [
              0.6666666666666666,
              "#ed7953"
             ],
             [
              0.7777777777777778,
              "#fb9f3a"
             ],
             [
              0.8888888888888888,
              "#fdca26"
             ],
             [
              1,
              "#f0f921"
             ]
            ],
            "type": "histogram2dcontour"
           }
          ],
          "mesh3d": [
           {
            "colorbar": {
             "outlinewidth": 0,
             "ticks": ""
            },
            "type": "mesh3d"
           }
          ],
          "parcoords": [
           {
            "line": {
             "colorbar": {
              "outlinewidth": 0,
              "ticks": ""
             }
            },
            "type": "parcoords"
           }
          ],
          "pie": [
           {
            "automargin": true,
            "type": "pie"
           }
          ],
          "scatter": [
           {
            "fillpattern": {
             "fillmode": "overlay",
             "size": 10,
             "solidity": 0.2
            },
            "type": "scatter"
           }
          ],
          "scatter3d": [
           {
            "line": {
             "colorbar": {
              "outlinewidth": 0,
              "ticks": ""
             }
            },
            "marker": {
             "colorbar": {
              "outlinewidth": 0,
              "ticks": ""
             }
            },
            "type": "scatter3d"
           }
          ],
          "scattercarpet": [
           {
            "marker": {
             "colorbar": {
              "outlinewidth": 0,
              "ticks": ""
             }
            },
            "type": "scattercarpet"
           }
          ],
          "scattergeo": [
           {
            "marker": {
             "colorbar": {
              "outlinewidth": 0,
              "ticks": ""
             }
            },
            "type": "scattergeo"
           }
          ],
          "scattergl": [
           {
            "marker": {
             "colorbar": {
              "outlinewidth": 0,
              "ticks": ""
             }
            },
            "type": "scattergl"
           }
          ],
          "scattermapbox": [
           {
            "marker": {
             "colorbar": {
              "outlinewidth": 0,
              "ticks": ""
             }
            },
            "type": "scattermapbox"
           }
          ],
          "scatterpolar": [
           {
            "marker": {
             "colorbar": {
              "outlinewidth": 0,
              "ticks": ""
             }
            },
            "type": "scatterpolar"
           }
          ],
          "scatterpolargl": [
           {
            "marker": {
             "colorbar": {
              "outlinewidth": 0,
              "ticks": ""
             }
            },
            "type": "scatterpolargl"
           }
          ],
          "scatterternary": [
           {
            "marker": {
             "colorbar": {
              "outlinewidth": 0,
              "ticks": ""
             }
            },
            "type": "scatterternary"
           }
          ],
          "surface": [
           {
            "colorbar": {
             "outlinewidth": 0,
             "ticks": ""
            },
            "colorscale": [
             [
              0,
              "#0d0887"
             ],
             [
              0.1111111111111111,
              "#46039f"
             ],
             [
              0.2222222222222222,
              "#7201a8"
             ],
             [
              0.3333333333333333,
              "#9c179e"
             ],
             [
              0.4444444444444444,
              "#bd3786"
             ],
             [
              0.5555555555555556,
              "#d8576b"
             ],
             [
              0.6666666666666666,
              "#ed7953"
             ],
             [
              0.7777777777777778,
              "#fb9f3a"
             ],
             [
              0.8888888888888888,
              "#fdca26"
             ],
             [
              1,
              "#f0f921"
             ]
            ],
            "type": "surface"
           }
          ],
          "table": [
           {
            "cells": {
             "fill": {
              "color": "#EBF0F8"
             },
             "line": {
              "color": "white"
             }
            },
            "header": {
             "fill": {
              "color": "#C8D4E3"
             },
             "line": {
              "color": "white"
             }
            },
            "type": "table"
           }
          ]
         },
         "layout": {
          "annotationdefaults": {
           "arrowcolor": "#2a3f5f",
           "arrowhead": 0,
           "arrowwidth": 1
          },
          "autotypenumbers": "strict",
          "coloraxis": {
           "colorbar": {
            "outlinewidth": 0,
            "ticks": ""
           }
          },
          "colorscale": {
           "diverging": [
            [
             0,
             "#8e0152"
            ],
            [
             0.1,
             "#c51b7d"
            ],
            [
             0.2,
             "#de77ae"
            ],
            [
             0.3,
             "#f1b6da"
            ],
            [
             0.4,
             "#fde0ef"
            ],
            [
             0.5,
             "#f7f7f7"
            ],
            [
             0.6,
             "#e6f5d0"
            ],
            [
             0.7,
             "#b8e186"
            ],
            [
             0.8,
             "#7fbc41"
            ],
            [
             0.9,
             "#4d9221"
            ],
            [
             1,
             "#276419"
            ]
           ],
           "sequential": [
            [
             0,
             "#0d0887"
            ],
            [
             0.1111111111111111,
             "#46039f"
            ],
            [
             0.2222222222222222,
             "#7201a8"
            ],
            [
             0.3333333333333333,
             "#9c179e"
            ],
            [
             0.4444444444444444,
             "#bd3786"
            ],
            [
             0.5555555555555556,
             "#d8576b"
            ],
            [
             0.6666666666666666,
             "#ed7953"
            ],
            [
             0.7777777777777778,
             "#fb9f3a"
            ],
            [
             0.8888888888888888,
             "#fdca26"
            ],
            [
             1,
             "#f0f921"
            ]
           ],
           "sequentialminus": [
            [
             0,
             "#0d0887"
            ],
            [
             0.1111111111111111,
             "#46039f"
            ],
            [
             0.2222222222222222,
             "#7201a8"
            ],
            [
             0.3333333333333333,
             "#9c179e"
            ],
            [
             0.4444444444444444,
             "#bd3786"
            ],
            [
             0.5555555555555556,
             "#d8576b"
            ],
            [
             0.6666666666666666,
             "#ed7953"
            ],
            [
             0.7777777777777778,
             "#fb9f3a"
            ],
            [
             0.8888888888888888,
             "#fdca26"
            ],
            [
             1,
             "#f0f921"
            ]
           ]
          },
          "colorway": [
           "#636efa",
           "#EF553B",
           "#00cc96",
           "#ab63fa",
           "#FFA15A",
           "#19d3f3",
           "#FF6692",
           "#B6E880",
           "#FF97FF",
           "#FECB52"
          ],
          "font": {
           "color": "#2a3f5f"
          },
          "geo": {
           "bgcolor": "white",
           "lakecolor": "white",
           "landcolor": "#E5ECF6",
           "showlakes": true,
           "showland": true,
           "subunitcolor": "white"
          },
          "hoverlabel": {
           "align": "left"
          },
          "hovermode": "closest",
          "mapbox": {
           "style": "light"
          },
          "paper_bgcolor": "white",
          "plot_bgcolor": "#E5ECF6",
          "polar": {
           "angularaxis": {
            "gridcolor": "white",
            "linecolor": "white",
            "ticks": ""
           },
           "bgcolor": "#E5ECF6",
           "radialaxis": {
            "gridcolor": "white",
            "linecolor": "white",
            "ticks": ""
           }
          },
          "scene": {
           "xaxis": {
            "backgroundcolor": "#E5ECF6",
            "gridcolor": "white",
            "gridwidth": 2,
            "linecolor": "white",
            "showbackground": true,
            "ticks": "",
            "zerolinecolor": "white"
           },
           "yaxis": {
            "backgroundcolor": "#E5ECF6",
            "gridcolor": "white",
            "gridwidth": 2,
            "linecolor": "white",
            "showbackground": true,
            "ticks": "",
            "zerolinecolor": "white"
           },
           "zaxis": {
            "backgroundcolor": "#E5ECF6",
            "gridcolor": "white",
            "gridwidth": 2,
            "linecolor": "white",
            "showbackground": true,
            "ticks": "",
            "zerolinecolor": "white"
           }
          },
          "shapedefaults": {
           "line": {
            "color": "#2a3f5f"
           }
          },
          "ternary": {
           "aaxis": {
            "gridcolor": "white",
            "linecolor": "white",
            "ticks": ""
           },
           "baxis": {
            "gridcolor": "white",
            "linecolor": "white",
            "ticks": ""
           },
           "bgcolor": "#E5ECF6",
           "caxis": {
            "gridcolor": "white",
            "linecolor": "white",
            "ticks": ""
           }
          },
          "title": {
           "x": 0.05
          },
          "xaxis": {
           "automargin": true,
           "gridcolor": "white",
           "linecolor": "white",
           "ticks": "",
           "title": {
            "standoff": 15
           },
           "zerolinecolor": "white",
           "zerolinewidth": 2
          },
          "yaxis": {
           "automargin": true,
           "gridcolor": "white",
           "linecolor": "white",
           "ticks": "",
           "title": {
            "standoff": 15
           },
           "zerolinecolor": "white",
           "zerolinewidth": 2
          }
         }
        },
        "title": {
         "text": "Streptomycin network node attack"
        },
        "width": 800,
        "xaxis": {
         "title": {
          "text": "Iteration"
         }
        },
        "yaxis": {
         "title": {
          "text": "Size of largest connected component"
         }
        }
       }
      },
      "text/html": [
       "<div>                            <div id=\"b928e07a-b3c1-4058-a832-13e02ad08701\" class=\"plotly-graph-div\" style=\"height:800px; width:800px;\"></div>            <script type=\"text/javascript\">                require([\"plotly\"], function(Plotly) {                    window.PLOTLYENV=window.PLOTLYENV || {};                                    if (document.getElementById(\"b928e07a-b3c1-4058-a832-13e02ad08701\")) {                    Plotly.newPlot(                        \"b928e07a-b3c1-4058-a832-13e02ad08701\",                        [{\"line\":{\"color\":\"#E43C42\"},\"x\":[0,1,2,3,4,5,6,7,8,9,10,11,12,13,14,15,16,17,18,19],\"y\":[4469,4428,4389,4340,4293,4249,4177,4112,4059,3989,3934,3857,3795,3743,3666,3605,3533,3450,3370,3285],\"type\":\"scatter\"}],                        {\"template\":{\"data\":{\"histogram2dcontour\":[{\"type\":\"histogram2dcontour\",\"colorbar\":{\"outlinewidth\":0,\"ticks\":\"\"},\"colorscale\":[[0.0,\"#0d0887\"],[0.1111111111111111,\"#46039f\"],[0.2222222222222222,\"#7201a8\"],[0.3333333333333333,\"#9c179e\"],[0.4444444444444444,\"#bd3786\"],[0.5555555555555556,\"#d8576b\"],[0.6666666666666666,\"#ed7953\"],[0.7777777777777778,\"#fb9f3a\"],[0.8888888888888888,\"#fdca26\"],[1.0,\"#f0f921\"]]}],\"choropleth\":[{\"type\":\"choropleth\",\"colorbar\":{\"outlinewidth\":0,\"ticks\":\"\"}}],\"histogram2d\":[{\"type\":\"histogram2d\",\"colorbar\":{\"outlinewidth\":0,\"ticks\":\"\"},\"colorscale\":[[0.0,\"#0d0887\"],[0.1111111111111111,\"#46039f\"],[0.2222222222222222,\"#7201a8\"],[0.3333333333333333,\"#9c179e\"],[0.4444444444444444,\"#bd3786\"],[0.5555555555555556,\"#d8576b\"],[0.6666666666666666,\"#ed7953\"],[0.7777777777777778,\"#fb9f3a\"],[0.8888888888888888,\"#fdca26\"],[1.0,\"#f0f921\"]]}],\"heatmap\":[{\"type\":\"heatmap\",\"colorbar\":{\"outlinewidth\":0,\"ticks\":\"\"},\"colorscale\":[[0.0,\"#0d0887\"],[0.1111111111111111,\"#46039f\"],[0.2222222222222222,\"#7201a8\"],[0.3333333333333333,\"#9c179e\"],[0.4444444444444444,\"#bd3786\"],[0.5555555555555556,\"#d8576b\"],[0.6666666666666666,\"#ed7953\"],[0.7777777777777778,\"#fb9f3a\"],[0.8888888888888888,\"#fdca26\"],[1.0,\"#f0f921\"]]}],\"heatmapgl\":[{\"type\":\"heatmapgl\",\"colorbar\":{\"outlinewidth\":0,\"ticks\":\"\"},\"colorscale\":[[0.0,\"#0d0887\"],[0.1111111111111111,\"#46039f\"],[0.2222222222222222,\"#7201a8\"],[0.3333333333333333,\"#9c179e\"],[0.4444444444444444,\"#bd3786\"],[0.5555555555555556,\"#d8576b\"],[0.6666666666666666,\"#ed7953\"],[0.7777777777777778,\"#fb9f3a\"],[0.8888888888888888,\"#fdca26\"],[1.0,\"#f0f921\"]]}],\"contourcarpet\":[{\"type\":\"contourcarpet\",\"colorbar\":{\"outlinewidth\":0,\"ticks\":\"\"}}],\"contour\":[{\"type\":\"contour\",\"colorbar\":{\"outlinewidth\":0,\"ticks\":\"\"},\"colorscale\":[[0.0,\"#0d0887\"],[0.1111111111111111,\"#46039f\"],[0.2222222222222222,\"#7201a8\"],[0.3333333333333333,\"#9c179e\"],[0.4444444444444444,\"#bd3786\"],[0.5555555555555556,\"#d8576b\"],[0.6666666666666666,\"#ed7953\"],[0.7777777777777778,\"#fb9f3a\"],[0.8888888888888888,\"#fdca26\"],[1.0,\"#f0f921\"]]}],\"surface\":[{\"type\":\"surface\",\"colorbar\":{\"outlinewidth\":0,\"ticks\":\"\"},\"colorscale\":[[0.0,\"#0d0887\"],[0.1111111111111111,\"#46039f\"],[0.2222222222222222,\"#7201a8\"],[0.3333333333333333,\"#9c179e\"],[0.4444444444444444,\"#bd3786\"],[0.5555555555555556,\"#d8576b\"],[0.6666666666666666,\"#ed7953\"],[0.7777777777777778,\"#fb9f3a\"],[0.8888888888888888,\"#fdca26\"],[1.0,\"#f0f921\"]]}],\"mesh3d\":[{\"type\":\"mesh3d\",\"colorbar\":{\"outlinewidth\":0,\"ticks\":\"\"}}],\"scatter\":[{\"fillpattern\":{\"fillmode\":\"overlay\",\"size\":10,\"solidity\":0.2},\"type\":\"scatter\"}],\"parcoords\":[{\"type\":\"parcoords\",\"line\":{\"colorbar\":{\"outlinewidth\":0,\"ticks\":\"\"}}}],\"scatterpolargl\":[{\"type\":\"scatterpolargl\",\"marker\":{\"colorbar\":{\"outlinewidth\":0,\"ticks\":\"\"}}}],\"bar\":[{\"error_x\":{\"color\":\"#2a3f5f\"},\"error_y\":{\"color\":\"#2a3f5f\"},\"marker\":{\"line\":{\"color\":\"#E5ECF6\",\"width\":0.5},\"pattern\":{\"fillmode\":\"overlay\",\"size\":10,\"solidity\":0.2}},\"type\":\"bar\"}],\"scattergeo\":[{\"type\":\"scattergeo\",\"marker\":{\"colorbar\":{\"outlinewidth\":0,\"ticks\":\"\"}}}],\"scatterpolar\":[{\"type\":\"scatterpolar\",\"marker\":{\"colorbar\":{\"outlinewidth\":0,\"ticks\":\"\"}}}],\"histogram\":[{\"marker\":{\"pattern\":{\"fillmode\":\"overlay\",\"size\":10,\"solidity\":0.2}},\"type\":\"histogram\"}],\"scattergl\":[{\"type\":\"scattergl\",\"marker\":{\"colorbar\":{\"outlinewidth\":0,\"ticks\":\"\"}}}],\"scatter3d\":[{\"type\":\"scatter3d\",\"line\":{\"colorbar\":{\"outlinewidth\":0,\"ticks\":\"\"}},\"marker\":{\"colorbar\":{\"outlinewidth\":0,\"ticks\":\"\"}}}],\"scattermapbox\":[{\"type\":\"scattermapbox\",\"marker\":{\"colorbar\":{\"outlinewidth\":0,\"ticks\":\"\"}}}],\"scatterternary\":[{\"type\":\"scatterternary\",\"marker\":{\"colorbar\":{\"outlinewidth\":0,\"ticks\":\"\"}}}],\"scattercarpet\":[{\"type\":\"scattercarpet\",\"marker\":{\"colorbar\":{\"outlinewidth\":0,\"ticks\":\"\"}}}],\"carpet\":[{\"aaxis\":{\"endlinecolor\":\"#2a3f5f\",\"gridcolor\":\"white\",\"linecolor\":\"white\",\"minorgridcolor\":\"white\",\"startlinecolor\":\"#2a3f5f\"},\"baxis\":{\"endlinecolor\":\"#2a3f5f\",\"gridcolor\":\"white\",\"linecolor\":\"white\",\"minorgridcolor\":\"white\",\"startlinecolor\":\"#2a3f5f\"},\"type\":\"carpet\"}],\"table\":[{\"cells\":{\"fill\":{\"color\":\"#EBF0F8\"},\"line\":{\"color\":\"white\"}},\"header\":{\"fill\":{\"color\":\"#C8D4E3\"},\"line\":{\"color\":\"white\"}},\"type\":\"table\"}],\"barpolar\":[{\"marker\":{\"line\":{\"color\":\"#E5ECF6\",\"width\":0.5},\"pattern\":{\"fillmode\":\"overlay\",\"size\":10,\"solidity\":0.2}},\"type\":\"barpolar\"}],\"pie\":[{\"automargin\":true,\"type\":\"pie\"}]},\"layout\":{\"autotypenumbers\":\"strict\",\"colorway\":[\"#636efa\",\"#EF553B\",\"#00cc96\",\"#ab63fa\",\"#FFA15A\",\"#19d3f3\",\"#FF6692\",\"#B6E880\",\"#FF97FF\",\"#FECB52\"],\"font\":{\"color\":\"#2a3f5f\"},\"hovermode\":\"closest\",\"hoverlabel\":{\"align\":\"left\"},\"paper_bgcolor\":\"white\",\"plot_bgcolor\":\"#E5ECF6\",\"polar\":{\"bgcolor\":\"#E5ECF6\",\"angularaxis\":{\"gridcolor\":\"white\",\"linecolor\":\"white\",\"ticks\":\"\"},\"radialaxis\":{\"gridcolor\":\"white\",\"linecolor\":\"white\",\"ticks\":\"\"}},\"ternary\":{\"bgcolor\":\"#E5ECF6\",\"aaxis\":{\"gridcolor\":\"white\",\"linecolor\":\"white\",\"ticks\":\"\"},\"baxis\":{\"gridcolor\":\"white\",\"linecolor\":\"white\",\"ticks\":\"\"},\"caxis\":{\"gridcolor\":\"white\",\"linecolor\":\"white\",\"ticks\":\"\"}},\"coloraxis\":{\"colorbar\":{\"outlinewidth\":0,\"ticks\":\"\"}},\"colorscale\":{\"sequential\":[[0.0,\"#0d0887\"],[0.1111111111111111,\"#46039f\"],[0.2222222222222222,\"#7201a8\"],[0.3333333333333333,\"#9c179e\"],[0.4444444444444444,\"#bd3786\"],[0.5555555555555556,\"#d8576b\"],[0.6666666666666666,\"#ed7953\"],[0.7777777777777778,\"#fb9f3a\"],[0.8888888888888888,\"#fdca26\"],[1.0,\"#f0f921\"]],\"sequentialminus\":[[0.0,\"#0d0887\"],[0.1111111111111111,\"#46039f\"],[0.2222222222222222,\"#7201a8\"],[0.3333333333333333,\"#9c179e\"],[0.4444444444444444,\"#bd3786\"],[0.5555555555555556,\"#d8576b\"],[0.6666666666666666,\"#ed7953\"],[0.7777777777777778,\"#fb9f3a\"],[0.8888888888888888,\"#fdca26\"],[1.0,\"#f0f921\"]],\"diverging\":[[0,\"#8e0152\"],[0.1,\"#c51b7d\"],[0.2,\"#de77ae\"],[0.3,\"#f1b6da\"],[0.4,\"#fde0ef\"],[0.5,\"#f7f7f7\"],[0.6,\"#e6f5d0\"],[0.7,\"#b8e186\"],[0.8,\"#7fbc41\"],[0.9,\"#4d9221\"],[1,\"#276419\"]]},\"xaxis\":{\"gridcolor\":\"white\",\"linecolor\":\"white\",\"ticks\":\"\",\"title\":{\"standoff\":15},\"zerolinecolor\":\"white\",\"automargin\":true,\"zerolinewidth\":2},\"yaxis\":{\"gridcolor\":\"white\",\"linecolor\":\"white\",\"ticks\":\"\",\"title\":{\"standoff\":15},\"zerolinecolor\":\"white\",\"automargin\":true,\"zerolinewidth\":2},\"scene\":{\"xaxis\":{\"backgroundcolor\":\"#E5ECF6\",\"gridcolor\":\"white\",\"linecolor\":\"white\",\"showbackground\":true,\"ticks\":\"\",\"zerolinecolor\":\"white\",\"gridwidth\":2},\"yaxis\":{\"backgroundcolor\":\"#E5ECF6\",\"gridcolor\":\"white\",\"linecolor\":\"white\",\"showbackground\":true,\"ticks\":\"\",\"zerolinecolor\":\"white\",\"gridwidth\":2},\"zaxis\":{\"backgroundcolor\":\"#E5ECF6\",\"gridcolor\":\"white\",\"linecolor\":\"white\",\"showbackground\":true,\"ticks\":\"\",\"zerolinecolor\":\"white\",\"gridwidth\":2}},\"shapedefaults\":{\"line\":{\"color\":\"#2a3f5f\"}},\"annotationdefaults\":{\"arrowcolor\":\"#2a3f5f\",\"arrowhead\":0,\"arrowwidth\":1},\"geo\":{\"bgcolor\":\"white\",\"landcolor\":\"#E5ECF6\",\"subunitcolor\":\"white\",\"showland\":true,\"showlakes\":true,\"lakecolor\":\"white\"},\"title\":{\"x\":0.05},\"mapbox\":{\"style\":\"light\"}}},\"title\":{\"text\":\"Streptomycin network node attack\"},\"xaxis\":{\"title\":{\"text\":\"Iteration\"}},\"yaxis\":{\"title\":{\"text\":\"Size of largest connected component\"}},\"autosize\":false,\"width\":800,\"height\":800},                        {\"responsive\": true}                    ).then(function(){\n",
       "                            \n",
       "var gd = document.getElementById('b928e07a-b3c1-4058-a832-13e02ad08701');\n",
       "var x = new MutationObserver(function (mutations, observer) {{\n",
       "        var display = window.getComputedStyle(gd).display;\n",
       "        if (!display || display === 'none') {{\n",
       "            console.log([gd, 'removed!']);\n",
       "            Plotly.purge(gd);\n",
       "            observer.disconnect();\n",
       "        }}\n",
       "}});\n",
       "\n",
       "// Listen for the removal of the full notebook cells\n",
       "var notebookContainer = gd.closest('#notebook-container');\n",
       "if (notebookContainer) {{\n",
       "    x.observe(notebookContainer, {childList: true});\n",
       "}}\n",
       "\n",
       "// Listen for the clearing of the current output cell\n",
       "var outputEl = gd.closest('.output');\n",
       "if (outputEl) {{\n",
       "    x.observe(outputEl, {childList: true});\n",
       "}}\n",
       "\n",
       "                        })                };                });            </script>        </div>"
      ]
     },
     "metadata": {},
     "output_type": "display_data"
    },
    {
     "data": {
      "application/vnd.plotly.v1+json": {
       "config": {
        "plotlyServerURL": "https://plot.ly"
       },
       "data": [
        {
         "line": {
          "color": "#E43C42"
         },
         "type": "scatter",
         "x": [
          0,
          1,
          2,
          3,
          4,
          5,
          6,
          7,
          8,
          9,
          10,
          11,
          12,
          13,
          14,
          15,
          16,
          17,
          18,
          19
         ],
         "y": [
          4037,
          3590,
          3203,
          2838,
          2528,
          2245,
          1993,
          1774,
          1564,
          1389,
          1228,
          1068,
          944,
          850,
          743,
          657,
          556,
          481,
          366,
          322
         ]
        }
       ],
       "layout": {
        "autosize": false,
        "height": 800,
        "template": {
         "data": {
          "bar": [
           {
            "error_x": {
             "color": "#2a3f5f"
            },
            "error_y": {
             "color": "#2a3f5f"
            },
            "marker": {
             "line": {
              "color": "#E5ECF6",
              "width": 0.5
             },
             "pattern": {
              "fillmode": "overlay",
              "size": 10,
              "solidity": 0.2
             }
            },
            "type": "bar"
           }
          ],
          "barpolar": [
           {
            "marker": {
             "line": {
              "color": "#E5ECF6",
              "width": 0.5
             },
             "pattern": {
              "fillmode": "overlay",
              "size": 10,
              "solidity": 0.2
             }
            },
            "type": "barpolar"
           }
          ],
          "carpet": [
           {
            "aaxis": {
             "endlinecolor": "#2a3f5f",
             "gridcolor": "white",
             "linecolor": "white",
             "minorgridcolor": "white",
             "startlinecolor": "#2a3f5f"
            },
            "baxis": {
             "endlinecolor": "#2a3f5f",
             "gridcolor": "white",
             "linecolor": "white",
             "minorgridcolor": "white",
             "startlinecolor": "#2a3f5f"
            },
            "type": "carpet"
           }
          ],
          "choropleth": [
           {
            "colorbar": {
             "outlinewidth": 0,
             "ticks": ""
            },
            "type": "choropleth"
           }
          ],
          "contour": [
           {
            "colorbar": {
             "outlinewidth": 0,
             "ticks": ""
            },
            "colorscale": [
             [
              0,
              "#0d0887"
             ],
             [
              0.1111111111111111,
              "#46039f"
             ],
             [
              0.2222222222222222,
              "#7201a8"
             ],
             [
              0.3333333333333333,
              "#9c179e"
             ],
             [
              0.4444444444444444,
              "#bd3786"
             ],
             [
              0.5555555555555556,
              "#d8576b"
             ],
             [
              0.6666666666666666,
              "#ed7953"
             ],
             [
              0.7777777777777778,
              "#fb9f3a"
             ],
             [
              0.8888888888888888,
              "#fdca26"
             ],
             [
              1,
              "#f0f921"
             ]
            ],
            "type": "contour"
           }
          ],
          "contourcarpet": [
           {
            "colorbar": {
             "outlinewidth": 0,
             "ticks": ""
            },
            "type": "contourcarpet"
           }
          ],
          "heatmap": [
           {
            "colorbar": {
             "outlinewidth": 0,
             "ticks": ""
            },
            "colorscale": [
             [
              0,
              "#0d0887"
             ],
             [
              0.1111111111111111,
              "#46039f"
             ],
             [
              0.2222222222222222,
              "#7201a8"
             ],
             [
              0.3333333333333333,
              "#9c179e"
             ],
             [
              0.4444444444444444,
              "#bd3786"
             ],
             [
              0.5555555555555556,
              "#d8576b"
             ],
             [
              0.6666666666666666,
              "#ed7953"
             ],
             [
              0.7777777777777778,
              "#fb9f3a"
             ],
             [
              0.8888888888888888,
              "#fdca26"
             ],
             [
              1,
              "#f0f921"
             ]
            ],
            "type": "heatmap"
           }
          ],
          "heatmapgl": [
           {
            "colorbar": {
             "outlinewidth": 0,
             "ticks": ""
            },
            "colorscale": [
             [
              0,
              "#0d0887"
             ],
             [
              0.1111111111111111,
              "#46039f"
             ],
             [
              0.2222222222222222,
              "#7201a8"
             ],
             [
              0.3333333333333333,
              "#9c179e"
             ],
             [
              0.4444444444444444,
              "#bd3786"
             ],
             [
              0.5555555555555556,
              "#d8576b"
             ],
             [
              0.6666666666666666,
              "#ed7953"
             ],
             [
              0.7777777777777778,
              "#fb9f3a"
             ],
             [
              0.8888888888888888,
              "#fdca26"
             ],
             [
              1,
              "#f0f921"
             ]
            ],
            "type": "heatmapgl"
           }
          ],
          "histogram": [
           {
            "marker": {
             "pattern": {
              "fillmode": "overlay",
              "size": 10,
              "solidity": 0.2
             }
            },
            "type": "histogram"
           }
          ],
          "histogram2d": [
           {
            "colorbar": {
             "outlinewidth": 0,
             "ticks": ""
            },
            "colorscale": [
             [
              0,
              "#0d0887"
             ],
             [
              0.1111111111111111,
              "#46039f"
             ],
             [
              0.2222222222222222,
              "#7201a8"
             ],
             [
              0.3333333333333333,
              "#9c179e"
             ],
             [
              0.4444444444444444,
              "#bd3786"
             ],
             [
              0.5555555555555556,
              "#d8576b"
             ],
             [
              0.6666666666666666,
              "#ed7953"
             ],
             [
              0.7777777777777778,
              "#fb9f3a"
             ],
             [
              0.8888888888888888,
              "#fdca26"
             ],
             [
              1,
              "#f0f921"
             ]
            ],
            "type": "histogram2d"
           }
          ],
          "histogram2dcontour": [
           {
            "colorbar": {
             "outlinewidth": 0,
             "ticks": ""
            },
            "colorscale": [
             [
              0,
              "#0d0887"
             ],
             [
              0.1111111111111111,
              "#46039f"
             ],
             [
              0.2222222222222222,
              "#7201a8"
             ],
             [
              0.3333333333333333,
              "#9c179e"
             ],
             [
              0.4444444444444444,
              "#bd3786"
             ],
             [
              0.5555555555555556,
              "#d8576b"
             ],
             [
              0.6666666666666666,
              "#ed7953"
             ],
             [
              0.7777777777777778,
              "#fb9f3a"
             ],
             [
              0.8888888888888888,
              "#fdca26"
             ],
             [
              1,
              "#f0f921"
             ]
            ],
            "type": "histogram2dcontour"
           }
          ],
          "mesh3d": [
           {
            "colorbar": {
             "outlinewidth": 0,
             "ticks": ""
            },
            "type": "mesh3d"
           }
          ],
          "parcoords": [
           {
            "line": {
             "colorbar": {
              "outlinewidth": 0,
              "ticks": ""
             }
            },
            "type": "parcoords"
           }
          ],
          "pie": [
           {
            "automargin": true,
            "type": "pie"
           }
          ],
          "scatter": [
           {
            "fillpattern": {
             "fillmode": "overlay",
             "size": 10,
             "solidity": 0.2
            },
            "type": "scatter"
           }
          ],
          "scatter3d": [
           {
            "line": {
             "colorbar": {
              "outlinewidth": 0,
              "ticks": ""
             }
            },
            "marker": {
             "colorbar": {
              "outlinewidth": 0,
              "ticks": ""
             }
            },
            "type": "scatter3d"
           }
          ],
          "scattercarpet": [
           {
            "marker": {
             "colorbar": {
              "outlinewidth": 0,
              "ticks": ""
             }
            },
            "type": "scattercarpet"
           }
          ],
          "scattergeo": [
           {
            "marker": {
             "colorbar": {
              "outlinewidth": 0,
              "ticks": ""
             }
            },
            "type": "scattergeo"
           }
          ],
          "scattergl": [
           {
            "marker": {
             "colorbar": {
              "outlinewidth": 0,
              "ticks": ""
             }
            },
            "type": "scattergl"
           }
          ],
          "scattermapbox": [
           {
            "marker": {
             "colorbar": {
              "outlinewidth": 0,
              "ticks": ""
             }
            },
            "type": "scattermapbox"
           }
          ],
          "scatterpolar": [
           {
            "marker": {
             "colorbar": {
              "outlinewidth": 0,
              "ticks": ""
             }
            },
            "type": "scatterpolar"
           }
          ],
          "scatterpolargl": [
           {
            "marker": {
             "colorbar": {
              "outlinewidth": 0,
              "ticks": ""
             }
            },
            "type": "scatterpolargl"
           }
          ],
          "scatterternary": [
           {
            "marker": {
             "colorbar": {
              "outlinewidth": 0,
              "ticks": ""
             }
            },
            "type": "scatterternary"
           }
          ],
          "surface": [
           {
            "colorbar": {
             "outlinewidth": 0,
             "ticks": ""
            },
            "colorscale": [
             [
              0,
              "#0d0887"
             ],
             [
              0.1111111111111111,
              "#46039f"
             ],
             [
              0.2222222222222222,
              "#7201a8"
             ],
             [
              0.3333333333333333,
              "#9c179e"
             ],
             [
              0.4444444444444444,
              "#bd3786"
             ],
             [
              0.5555555555555556,
              "#d8576b"
             ],
             [
              0.6666666666666666,
              "#ed7953"
             ],
             [
              0.7777777777777778,
              "#fb9f3a"
             ],
             [
              0.8888888888888888,
              "#fdca26"
             ],
             [
              1,
              "#f0f921"
             ]
            ],
            "type": "surface"
           }
          ],
          "table": [
           {
            "cells": {
             "fill": {
              "color": "#EBF0F8"
             },
             "line": {
              "color": "white"
             }
            },
            "header": {
             "fill": {
              "color": "#C8D4E3"
             },
             "line": {
              "color": "white"
             }
            },
            "type": "table"
           }
          ]
         },
         "layout": {
          "annotationdefaults": {
           "arrowcolor": "#2a3f5f",
           "arrowhead": 0,
           "arrowwidth": 1
          },
          "autotypenumbers": "strict",
          "coloraxis": {
           "colorbar": {
            "outlinewidth": 0,
            "ticks": ""
           }
          },
          "colorscale": {
           "diverging": [
            [
             0,
             "#8e0152"
            ],
            [
             0.1,
             "#c51b7d"
            ],
            [
             0.2,
             "#de77ae"
            ],
            [
             0.3,
             "#f1b6da"
            ],
            [
             0.4,
             "#fde0ef"
            ],
            [
             0.5,
             "#f7f7f7"
            ],
            [
             0.6,
             "#e6f5d0"
            ],
            [
             0.7,
             "#b8e186"
            ],
            [
             0.8,
             "#7fbc41"
            ],
            [
             0.9,
             "#4d9221"
            ],
            [
             1,
             "#276419"
            ]
           ],
           "sequential": [
            [
             0,
             "#0d0887"
            ],
            [
             0.1111111111111111,
             "#46039f"
            ],
            [
             0.2222222222222222,
             "#7201a8"
            ],
            [
             0.3333333333333333,
             "#9c179e"
            ],
            [
             0.4444444444444444,
             "#bd3786"
            ],
            [
             0.5555555555555556,
             "#d8576b"
            ],
            [
             0.6666666666666666,
             "#ed7953"
            ],
            [
             0.7777777777777778,
             "#fb9f3a"
            ],
            [
             0.8888888888888888,
             "#fdca26"
            ],
            [
             1,
             "#f0f921"
            ]
           ],
           "sequentialminus": [
            [
             0,
             "#0d0887"
            ],
            [
             0.1111111111111111,
             "#46039f"
            ],
            [
             0.2222222222222222,
             "#7201a8"
            ],
            [
             0.3333333333333333,
             "#9c179e"
            ],
            [
             0.4444444444444444,
             "#bd3786"
            ],
            [
             0.5555555555555556,
             "#d8576b"
            ],
            [
             0.6666666666666666,
             "#ed7953"
            ],
            [
             0.7777777777777778,
             "#fb9f3a"
            ],
            [
             0.8888888888888888,
             "#fdca26"
            ],
            [
             1,
             "#f0f921"
            ]
           ]
          },
          "colorway": [
           "#636efa",
           "#EF553B",
           "#00cc96",
           "#ab63fa",
           "#FFA15A",
           "#19d3f3",
           "#FF6692",
           "#B6E880",
           "#FF97FF",
           "#FECB52"
          ],
          "font": {
           "color": "#2a3f5f"
          },
          "geo": {
           "bgcolor": "white",
           "lakecolor": "white",
           "landcolor": "#E5ECF6",
           "showlakes": true,
           "showland": true,
           "subunitcolor": "white"
          },
          "hoverlabel": {
           "align": "left"
          },
          "hovermode": "closest",
          "mapbox": {
           "style": "light"
          },
          "paper_bgcolor": "white",
          "plot_bgcolor": "#E5ECF6",
          "polar": {
           "angularaxis": {
            "gridcolor": "white",
            "linecolor": "white",
            "ticks": ""
           },
           "bgcolor": "#E5ECF6",
           "radialaxis": {
            "gridcolor": "white",
            "linecolor": "white",
            "ticks": ""
           }
          },
          "scene": {
           "xaxis": {
            "backgroundcolor": "#E5ECF6",
            "gridcolor": "white",
            "gridwidth": 2,
            "linecolor": "white",
            "showbackground": true,
            "ticks": "",
            "zerolinecolor": "white"
           },
           "yaxis": {
            "backgroundcolor": "#E5ECF6",
            "gridcolor": "white",
            "gridwidth": 2,
            "linecolor": "white",
            "showbackground": true,
            "ticks": "",
            "zerolinecolor": "white"
           },
           "zaxis": {
            "backgroundcolor": "#E5ECF6",
            "gridcolor": "white",
            "gridwidth": 2,
            "linecolor": "white",
            "showbackground": true,
            "ticks": "",
            "zerolinecolor": "white"
           }
          },
          "shapedefaults": {
           "line": {
            "color": "#2a3f5f"
           }
          },
          "ternary": {
           "aaxis": {
            "gridcolor": "white",
            "linecolor": "white",
            "ticks": ""
           },
           "baxis": {
            "gridcolor": "white",
            "linecolor": "white",
            "ticks": ""
           },
           "bgcolor": "#E5ECF6",
           "caxis": {
            "gridcolor": "white",
            "linecolor": "white",
            "ticks": ""
           }
          },
          "title": {
           "x": 0.05
          },
          "xaxis": {
           "automargin": true,
           "gridcolor": "white",
           "linecolor": "white",
           "ticks": "",
           "title": {
            "standoff": 15
           },
           "zerolinecolor": "white",
           "zerolinewidth": 2
          },
          "yaxis": {
           "automargin": true,
           "gridcolor": "white",
           "linecolor": "white",
           "ticks": "",
           "title": {
            "standoff": 15
           },
           "zerolinecolor": "white",
           "zerolinewidth": 2
          }
         }
        },
        "title": {
         "text": "Robustness analysis"
        },
        "width": 800,
        "xaxis": {
         "title": {
          "text": "Iteration"
         }
        },
        "yaxis": {
         "title": {
          "text": "Size of largest connected component"
         }
        }
       }
      },
      "text/html": [
       "<div>                            <div id=\"e995ee12-eb0a-4dda-b9cd-c0248792e01f\" class=\"plotly-graph-div\" style=\"height:800px; width:800px;\"></div>            <script type=\"text/javascript\">                require([\"plotly\"], function(Plotly) {                    window.PLOTLYENV=window.PLOTLYENV || {};                                    if (document.getElementById(\"e995ee12-eb0a-4dda-b9cd-c0248792e01f\")) {                    Plotly.newPlot(                        \"e995ee12-eb0a-4dda-b9cd-c0248792e01f\",                        [{\"line\":{\"color\":\"#E43C42\"},\"x\":[0,1,2,3,4,5,6,7,8,9,10,11,12,13,14,15,16,17,18,19],\"y\":[4037,3590,3203,2838,2528,2245,1993,1774,1564,1389,1228,1068,944,850,743,657,556,481,366,322],\"type\":\"scatter\"}],                        {\"template\":{\"data\":{\"histogram2dcontour\":[{\"type\":\"histogram2dcontour\",\"colorbar\":{\"outlinewidth\":0,\"ticks\":\"\"},\"colorscale\":[[0.0,\"#0d0887\"],[0.1111111111111111,\"#46039f\"],[0.2222222222222222,\"#7201a8\"],[0.3333333333333333,\"#9c179e\"],[0.4444444444444444,\"#bd3786\"],[0.5555555555555556,\"#d8576b\"],[0.6666666666666666,\"#ed7953\"],[0.7777777777777778,\"#fb9f3a\"],[0.8888888888888888,\"#fdca26\"],[1.0,\"#f0f921\"]]}],\"choropleth\":[{\"type\":\"choropleth\",\"colorbar\":{\"outlinewidth\":0,\"ticks\":\"\"}}],\"histogram2d\":[{\"type\":\"histogram2d\",\"colorbar\":{\"outlinewidth\":0,\"ticks\":\"\"},\"colorscale\":[[0.0,\"#0d0887\"],[0.1111111111111111,\"#46039f\"],[0.2222222222222222,\"#7201a8\"],[0.3333333333333333,\"#9c179e\"],[0.4444444444444444,\"#bd3786\"],[0.5555555555555556,\"#d8576b\"],[0.6666666666666666,\"#ed7953\"],[0.7777777777777778,\"#fb9f3a\"],[0.8888888888888888,\"#fdca26\"],[1.0,\"#f0f921\"]]}],\"heatmap\":[{\"type\":\"heatmap\",\"colorbar\":{\"outlinewidth\":0,\"ticks\":\"\"},\"colorscale\":[[0.0,\"#0d0887\"],[0.1111111111111111,\"#46039f\"],[0.2222222222222222,\"#7201a8\"],[0.3333333333333333,\"#9c179e\"],[0.4444444444444444,\"#bd3786\"],[0.5555555555555556,\"#d8576b\"],[0.6666666666666666,\"#ed7953\"],[0.7777777777777778,\"#fb9f3a\"],[0.8888888888888888,\"#fdca26\"],[1.0,\"#f0f921\"]]}],\"heatmapgl\":[{\"type\":\"heatmapgl\",\"colorbar\":{\"outlinewidth\":0,\"ticks\":\"\"},\"colorscale\":[[0.0,\"#0d0887\"],[0.1111111111111111,\"#46039f\"],[0.2222222222222222,\"#7201a8\"],[0.3333333333333333,\"#9c179e\"],[0.4444444444444444,\"#bd3786\"],[0.5555555555555556,\"#d8576b\"],[0.6666666666666666,\"#ed7953\"],[0.7777777777777778,\"#fb9f3a\"],[0.8888888888888888,\"#fdca26\"],[1.0,\"#f0f921\"]]}],\"contourcarpet\":[{\"type\":\"contourcarpet\",\"colorbar\":{\"outlinewidth\":0,\"ticks\":\"\"}}],\"contour\":[{\"type\":\"contour\",\"colorbar\":{\"outlinewidth\":0,\"ticks\":\"\"},\"colorscale\":[[0.0,\"#0d0887\"],[0.1111111111111111,\"#46039f\"],[0.2222222222222222,\"#7201a8\"],[0.3333333333333333,\"#9c179e\"],[0.4444444444444444,\"#bd3786\"],[0.5555555555555556,\"#d8576b\"],[0.6666666666666666,\"#ed7953\"],[0.7777777777777778,\"#fb9f3a\"],[0.8888888888888888,\"#fdca26\"],[1.0,\"#f0f921\"]]}],\"surface\":[{\"type\":\"surface\",\"colorbar\":{\"outlinewidth\":0,\"ticks\":\"\"},\"colorscale\":[[0.0,\"#0d0887\"],[0.1111111111111111,\"#46039f\"],[0.2222222222222222,\"#7201a8\"],[0.3333333333333333,\"#9c179e\"],[0.4444444444444444,\"#bd3786\"],[0.5555555555555556,\"#d8576b\"],[0.6666666666666666,\"#ed7953\"],[0.7777777777777778,\"#fb9f3a\"],[0.8888888888888888,\"#fdca26\"],[1.0,\"#f0f921\"]]}],\"mesh3d\":[{\"type\":\"mesh3d\",\"colorbar\":{\"outlinewidth\":0,\"ticks\":\"\"}}],\"scatter\":[{\"fillpattern\":{\"fillmode\":\"overlay\",\"size\":10,\"solidity\":0.2},\"type\":\"scatter\"}],\"parcoords\":[{\"type\":\"parcoords\",\"line\":{\"colorbar\":{\"outlinewidth\":0,\"ticks\":\"\"}}}],\"scatterpolargl\":[{\"type\":\"scatterpolargl\",\"marker\":{\"colorbar\":{\"outlinewidth\":0,\"ticks\":\"\"}}}],\"bar\":[{\"error_x\":{\"color\":\"#2a3f5f\"},\"error_y\":{\"color\":\"#2a3f5f\"},\"marker\":{\"line\":{\"color\":\"#E5ECF6\",\"width\":0.5},\"pattern\":{\"fillmode\":\"overlay\",\"size\":10,\"solidity\":0.2}},\"type\":\"bar\"}],\"scattergeo\":[{\"type\":\"scattergeo\",\"marker\":{\"colorbar\":{\"outlinewidth\":0,\"ticks\":\"\"}}}],\"scatterpolar\":[{\"type\":\"scatterpolar\",\"marker\":{\"colorbar\":{\"outlinewidth\":0,\"ticks\":\"\"}}}],\"histogram\":[{\"marker\":{\"pattern\":{\"fillmode\":\"overlay\",\"size\":10,\"solidity\":0.2}},\"type\":\"histogram\"}],\"scattergl\":[{\"type\":\"scattergl\",\"marker\":{\"colorbar\":{\"outlinewidth\":0,\"ticks\":\"\"}}}],\"scatter3d\":[{\"type\":\"scatter3d\",\"line\":{\"colorbar\":{\"outlinewidth\":0,\"ticks\":\"\"}},\"marker\":{\"colorbar\":{\"outlinewidth\":0,\"ticks\":\"\"}}}],\"scattermapbox\":[{\"type\":\"scattermapbox\",\"marker\":{\"colorbar\":{\"outlinewidth\":0,\"ticks\":\"\"}}}],\"scatterternary\":[{\"type\":\"scatterternary\",\"marker\":{\"colorbar\":{\"outlinewidth\":0,\"ticks\":\"\"}}}],\"scattercarpet\":[{\"type\":\"scattercarpet\",\"marker\":{\"colorbar\":{\"outlinewidth\":0,\"ticks\":\"\"}}}],\"carpet\":[{\"aaxis\":{\"endlinecolor\":\"#2a3f5f\",\"gridcolor\":\"white\",\"linecolor\":\"white\",\"minorgridcolor\":\"white\",\"startlinecolor\":\"#2a3f5f\"},\"baxis\":{\"endlinecolor\":\"#2a3f5f\",\"gridcolor\":\"white\",\"linecolor\":\"white\",\"minorgridcolor\":\"white\",\"startlinecolor\":\"#2a3f5f\"},\"type\":\"carpet\"}],\"table\":[{\"cells\":{\"fill\":{\"color\":\"#EBF0F8\"},\"line\":{\"color\":\"white\"}},\"header\":{\"fill\":{\"color\":\"#C8D4E3\"},\"line\":{\"color\":\"white\"}},\"type\":\"table\"}],\"barpolar\":[{\"marker\":{\"line\":{\"color\":\"#E5ECF6\",\"width\":0.5},\"pattern\":{\"fillmode\":\"overlay\",\"size\":10,\"solidity\":0.2}},\"type\":\"barpolar\"}],\"pie\":[{\"automargin\":true,\"type\":\"pie\"}]},\"layout\":{\"autotypenumbers\":\"strict\",\"colorway\":[\"#636efa\",\"#EF553B\",\"#00cc96\",\"#ab63fa\",\"#FFA15A\",\"#19d3f3\",\"#FF6692\",\"#B6E880\",\"#FF97FF\",\"#FECB52\"],\"font\":{\"color\":\"#2a3f5f\"},\"hovermode\":\"closest\",\"hoverlabel\":{\"align\":\"left\"},\"paper_bgcolor\":\"white\",\"plot_bgcolor\":\"#E5ECF6\",\"polar\":{\"bgcolor\":\"#E5ECF6\",\"angularaxis\":{\"gridcolor\":\"white\",\"linecolor\":\"white\",\"ticks\":\"\"},\"radialaxis\":{\"gridcolor\":\"white\",\"linecolor\":\"white\",\"ticks\":\"\"}},\"ternary\":{\"bgcolor\":\"#E5ECF6\",\"aaxis\":{\"gridcolor\":\"white\",\"linecolor\":\"white\",\"ticks\":\"\"},\"baxis\":{\"gridcolor\":\"white\",\"linecolor\":\"white\",\"ticks\":\"\"},\"caxis\":{\"gridcolor\":\"white\",\"linecolor\":\"white\",\"ticks\":\"\"}},\"coloraxis\":{\"colorbar\":{\"outlinewidth\":0,\"ticks\":\"\"}},\"colorscale\":{\"sequential\":[[0.0,\"#0d0887\"],[0.1111111111111111,\"#46039f\"],[0.2222222222222222,\"#7201a8\"],[0.3333333333333333,\"#9c179e\"],[0.4444444444444444,\"#bd3786\"],[0.5555555555555556,\"#d8576b\"],[0.6666666666666666,\"#ed7953\"],[0.7777777777777778,\"#fb9f3a\"],[0.8888888888888888,\"#fdca26\"],[1.0,\"#f0f921\"]],\"sequentialminus\":[[0.0,\"#0d0887\"],[0.1111111111111111,\"#46039f\"],[0.2222222222222222,\"#7201a8\"],[0.3333333333333333,\"#9c179e\"],[0.4444444444444444,\"#bd3786\"],[0.5555555555555556,\"#d8576b\"],[0.6666666666666666,\"#ed7953\"],[0.7777777777777778,\"#fb9f3a\"],[0.8888888888888888,\"#fdca26\"],[1.0,\"#f0f921\"]],\"diverging\":[[0,\"#8e0152\"],[0.1,\"#c51b7d\"],[0.2,\"#de77ae\"],[0.3,\"#f1b6da\"],[0.4,\"#fde0ef\"],[0.5,\"#f7f7f7\"],[0.6,\"#e6f5d0\"],[0.7,\"#b8e186\"],[0.8,\"#7fbc41\"],[0.9,\"#4d9221\"],[1,\"#276419\"]]},\"xaxis\":{\"gridcolor\":\"white\",\"linecolor\":\"white\",\"ticks\":\"\",\"title\":{\"standoff\":15},\"zerolinecolor\":\"white\",\"automargin\":true,\"zerolinewidth\":2},\"yaxis\":{\"gridcolor\":\"white\",\"linecolor\":\"white\",\"ticks\":\"\",\"title\":{\"standoff\":15},\"zerolinecolor\":\"white\",\"automargin\":true,\"zerolinewidth\":2},\"scene\":{\"xaxis\":{\"backgroundcolor\":\"#E5ECF6\",\"gridcolor\":\"white\",\"linecolor\":\"white\",\"showbackground\":true,\"ticks\":\"\",\"zerolinecolor\":\"white\",\"gridwidth\":2},\"yaxis\":{\"backgroundcolor\":\"#E5ECF6\",\"gridcolor\":\"white\",\"linecolor\":\"white\",\"showbackground\":true,\"ticks\":\"\",\"zerolinecolor\":\"white\",\"gridwidth\":2},\"zaxis\":{\"backgroundcolor\":\"#E5ECF6\",\"gridcolor\":\"white\",\"linecolor\":\"white\",\"showbackground\":true,\"ticks\":\"\",\"zerolinecolor\":\"white\",\"gridwidth\":2}},\"shapedefaults\":{\"line\":{\"color\":\"#2a3f5f\"}},\"annotationdefaults\":{\"arrowcolor\":\"#2a3f5f\",\"arrowhead\":0,\"arrowwidth\":1},\"geo\":{\"bgcolor\":\"white\",\"landcolor\":\"#E5ECF6\",\"subunitcolor\":\"white\",\"showland\":true,\"showlakes\":true,\"lakecolor\":\"white\"},\"title\":{\"x\":0.05},\"mapbox\":{\"style\":\"light\"}}},\"title\":{\"text\":\"Robustness analysis\"},\"xaxis\":{\"title\":{\"text\":\"Iteration\"}},\"yaxis\":{\"title\":{\"text\":\"Size of largest connected component\"}},\"autosize\":false,\"width\":800,\"height\":800},                        {\"responsive\": true}                    ).then(function(){\n",
       "                            \n",
       "var gd = document.getElementById('e995ee12-eb0a-4dda-b9cd-c0248792e01f');\n",
       "var x = new MutationObserver(function (mutations, observer) {{\n",
       "        var display = window.getComputedStyle(gd).display;\n",
       "        if (!display || display === 'none') {{\n",
       "            console.log([gd, 'removed!']);\n",
       "            Plotly.purge(gd);\n",
       "            observer.disconnect();\n",
       "        }}\n",
       "}});\n",
       "\n",
       "// Listen for the removal of the full notebook cells\n",
       "var notebookContainer = gd.closest('#notebook-container');\n",
       "if (notebookContainer) {{\n",
       "    x.observe(notebookContainer, {childList: true});\n",
       "}}\n",
       "\n",
       "// Listen for the clearing of the current output cell\n",
       "var outputEl = gd.closest('.output');\n",
       "if (outputEl) {{\n",
       "    x.observe(outputEl, {childList: true});\n",
       "}}\n",
       "\n",
       "                        })                };                });            </script>        </div>"
      ]
     },
     "metadata": {},
     "output_type": "display_data"
    }
   ],
   "source": [
    "import networkx as nx\n",
    "import numpy as np\n",
    "import matplotlib.pyplot as plt\n",
    "import plotly.graph_objects as go\n",
    "\n",
    "\n",
    "def robustness_analysis(G, perturbation_type='node', removal_fraction=0.1, num_iterations=100, random_seed=None, title='Robustness analysis'):\n",
    "    \"\"\"\n",
    "    Perform robustness analysis on a network by systematically removing nodes or edges.\n",
    "\n",
    "    Parameters:\n",
    "    - G: networkx.Graph\n",
    "        The input network.\n",
    "    - perturbation_type: str\n",
    "        The type of perturbation ('node' or 'edge').\n",
    "    - removal_fraction: float\n",
    "        The fraction of nodes or edges to remove in each iteration.\n",
    "    - num_iterations: int\n",
    "        The number of iterations for the robustness analysis.\n",
    "    - random_seed: int\n",
    "        Seed for random number generator for reproducibility.\n",
    "\n",
    "    Returns:\n",
    "    - robustness_results: list of float\n",
    "        The largest connected component size after each iteration.\n",
    "    \"\"\"\n",
    "    if perturbation_type not in ['node', 'edge']:\n",
    "        raise ValueError(\"perturbation_type must be 'node' or 'edge'\")\n",
    "\n",
    "    np.random.seed(random_seed)\n",
    "    G_copy = G.copy()\n",
    "\n",
    "    robustness_results = []\n",
    "\n",
    "    for _ in range(num_iterations):\n",
    "        num_elements = G_copy.number_of_nodes() if perturbation_type == 'node' else G_copy.number_of_edges()\n",
    "        elements_to_remove = int(removal_fraction * num_elements)\n",
    "        elements_to_remove = min(elements_to_remove, num_elements) \n",
    "\n",
    "        if perturbation_type == 'node':\n",
    "            nodes = list(G_copy.nodes())\n",
    "            nodes_to_remove = np.random.choice(nodes, size=elements_to_remove, replace=False)\n",
    "            G_copy.remove_nodes_from(nodes_to_remove)\n",
    "        else:\n",
    "            edges = list(G_copy.edges())\n",
    "            edges_to_remove = np.random.choice(len(edges), size=elements_to_remove, replace=False)\n",
    "            G_copy.remove_edges_from([edges[i] for i in edges_to_remove])\n",
    "\n",
    "        # Calculate the size of the largest connected component\n",
    "        largest_cc = max(nx.connected_components(G_copy), key=len)\n",
    "        robustness_results.append(len(largest_cc))\n",
    "\n",
    "\n",
    "    fig = go.Figure(data=go.Scatter(x=list(range(len(results))), y=results, line=dict(color='#E43C42')))\n",
    "    fig.update_layout(title=title,\n",
    "                    xaxis_title='Iteration',\n",
    "                    yaxis_title='Size of largest connected component',\n",
    "                    autosize=False,\n",
    "                    width=800,\n",
    "                    height=800)\n",
    "    fig.show()\n",
    "\n",
    "    return robustness_results   \n",
    "\n",
    "G=G_streptomycin\n",
    "results = robustness_analysis(G, perturbation_type='node', removal_fraction=0.1, num_iterations=20, random_seed=42, title='Streptomycin network node attack')\n",
    "\n",
    "G=G_streptomycin\n",
    "results = robustness_analysis(G, perturbation_type='edge', removal_fraction=0.1, num_iterations=20, random_seed=42)"
   ]
  },
  {
   "cell_type": "code",
   "execution_count": 15,
   "metadata": {},
   "outputs": [
    {
     "data": {
      "text/plain": [
       "[4037,\n",
       " 3590,\n",
       " 3203,\n",
       " 2838,\n",
       " 2528,\n",
       " 2245,\n",
       " 1993,\n",
       " 1774,\n",
       " 1564,\n",
       " 1389,\n",
       " 1228,\n",
       " 1068,\n",
       " 944,\n",
       " 850,\n",
       " 743,\n",
       " 657,\n",
       " 556,\n",
       " 481,\n",
       " 366,\n",
       " 322]"
      ]
     },
     "execution_count": 15,
     "metadata": {},
     "output_type": "execute_result"
    }
   ],
   "source": [
    "results"
   ]
  },
  {
   "cell_type": "markdown",
   "metadata": {},
   "source": [
    "## real"
   ]
  },
  {
   "cell_type": "code",
   "execution_count": 90,
   "metadata": {},
   "outputs": [],
   "source": [
    "#-- intra-cluster correlation\n",
    "\n",
    "import numpy as np\n",
    "\n",
    "def calculate_intra_cluster_correlations(G, clusters, drug='streptomycin'):\n",
    "    correlations = []\n",
    "    for cluster in clusters:\n",
    "        if len(cluster) > 10:\n",
    "            log_odds = [G.nodes(data=True)[node][f'log_odds_{drug}_resistance'] for node in cluster]\n",
    "            correlation = np.corrcoef(log_odds)\n",
    "            correlations.append(correlation)\n",
    "    return correlations\n",
    "\n",
    "correlations = calculate_intra_cluster_correlations(G_streptomycin, streptomycin_split[0])"
   ]
  },
  {
   "cell_type": "code",
   "execution_count": 107,
   "metadata": {},
   "outputs": [],
   "source": [
    "import pandas as pd\n",
    "import pingouin as pg\n",
    "from IPython.display import display\n",
    "\n",
    "\n",
    "def calculate_intra_cluster_correlations(G, clusters):\n",
    "    count=0\n",
    "    correlations = []\n",
    "    for cluster in clusters:\n",
    "        if len(cluster) > 10:\n",
    "            log_odds = [G.nodes(data=True)[node]['log_odds_streptomycin_resistance'] for node in cluster]\n",
    "            df = pd.DataFrame(log_odds, columns=['log_odds'])\n",
    "            df['community'] = [str(cluster)] * len(log_odds)\n",
    "            df['node'] = list(range(len(log_odds)))\n",
    "            # print(f'Community: {count}')\n",
    "            # display(df)\n",
    "            icc = pg.intraclass_corr(data=df, targets='community', raters='node', ratings='log_odds').round(3)\n",
    "            correlations.append(icc.set_index(\"Type\"))\n",
    "            count+=1\n",
    "    return correlations\n",
    "\n",
    "# correlations = calculate_intra_cluster_correlations(G_streptomycin, streptomycin_split[0])"
   ]
  },
  {
   "cell_type": "code",
   "execution_count": 105,
   "metadata": {},
   "outputs": [
    {
     "data": {
      "text/plain": [
       "[                   Description  ICC   F  df1  df2  pval       CI95%\n",
       " Type                                                               \n",
       " ICC1    Single raters absolute  NaN NaN    0  232   NaN  [nan, nan]\n",
       " ICC2      Single random raters  NaN NaN    0    0   NaN  [nan, nan]\n",
       " ICC3       Single fixed raters  NaN NaN    0    0   NaN  [nan, nan]\n",
       " ICC1k  Average raters absolute  NaN NaN    0  232   NaN  [nan, nan]\n",
       " ICC2k    Average random raters  NaN NaN    0    0   NaN  [nan, nan]\n",
       " ICC3k     Average fixed raters  NaN NaN    0    0   NaN  [nan, nan],\n",
       "                    Description  ICC    F  df1  df2  pval       CI95%\n",
       " Type                                                                \n",
       " ICC1    Single raters absolute  NaN  inf    0  151   NaN  [nan, nan]\n",
       " ICC2      Single random raters  NaN  NaN    0    0   NaN  [nan, nan]\n",
       " ICC3       Single fixed raters  NaN  NaN    0    0   NaN  [nan, nan]\n",
       " ICC1k  Average raters absolute  NaN  inf    0  151   NaN  [nan, nan]\n",
       " ICC2k    Average random raters  NaN  NaN    0    0   NaN  [nan, nan]\n",
       " ICC3k     Average fixed raters  NaN  NaN    0    0   NaN  [nan, nan],\n",
       "                    Description  ICC   F  df1  df2  pval       CI95%\n",
       " Type                                                               \n",
       " ICC1    Single raters absolute  NaN NaN    0   20   NaN  [nan, nan]\n",
       " ICC2      Single random raters  NaN NaN    0    0   NaN  [nan, nan]\n",
       " ICC3       Single fixed raters  NaN NaN    0    0   NaN  [nan, nan]\n",
       " ICC1k  Average raters absolute  NaN NaN    0   20   NaN  [nan, nan]\n",
       " ICC2k    Average random raters  NaN NaN    0    0   NaN  [nan, nan]\n",
       " ICC3k     Average fixed raters  NaN NaN    0    0   NaN  [nan, nan],\n",
       "                    Description  ICC    F  df1  df2  pval       CI95%\n",
       " Type                                                                \n",
       " ICC1    Single raters absolute  NaN  inf    0  103   NaN  [nan, nan]\n",
       " ICC2      Single random raters  NaN  NaN    0    0   NaN  [nan, nan]\n",
       " ICC3       Single fixed raters  NaN  NaN    0    0   NaN  [nan, nan]\n",
       " ICC1k  Average raters absolute  NaN  inf    0  103   NaN  [nan, nan]\n",
       " ICC2k    Average random raters  NaN  NaN    0    0   NaN  [nan, nan]\n",
       " ICC3k     Average fixed raters  NaN  NaN    0    0   NaN  [nan, nan],\n",
       "                    Description  ICC   F  df1  df2  pval       CI95%\n",
       " Type                                                               \n",
       " ICC1    Single raters absolute  NaN NaN    0  277   NaN  [nan, nan]\n",
       " ICC2      Single random raters  NaN NaN    0    0   NaN  [nan, nan]\n",
       " ICC3       Single fixed raters  NaN NaN    0    0   NaN  [nan, nan]\n",
       " ICC1k  Average raters absolute  NaN NaN    0  277   NaN  [nan, nan]\n",
       " ICC2k    Average random raters  NaN NaN    0    0   NaN  [nan, nan]\n",
       " ICC3k     Average fixed raters  NaN NaN    0    0   NaN  [nan, nan],\n",
       "                    Description  ICC   F  df1  df2  pval       CI95%\n",
       " Type                                                               \n",
       " ICC1    Single raters absolute  NaN NaN    0  251   NaN  [nan, nan]\n",
       " ICC2      Single random raters  NaN NaN    0    0   NaN  [nan, nan]\n",
       " ICC3       Single fixed raters  NaN NaN    0    0   NaN  [nan, nan]\n",
       " ICC1k  Average raters absolute  NaN NaN    0  251   NaN  [nan, nan]\n",
       " ICC2k    Average random raters  NaN NaN    0    0   NaN  [nan, nan]\n",
       " ICC3k     Average fixed raters  NaN NaN    0    0   NaN  [nan, nan],\n",
       "                    Description  ICC    F  df1  df2  pval       CI95%\n",
       " Type                                                                \n",
       " ICC1    Single raters absolute  NaN  inf    0  245   NaN  [nan, nan]\n",
       " ICC2      Single random raters  NaN  NaN    0    0   NaN  [nan, nan]\n",
       " ICC3       Single fixed raters  NaN  NaN    0    0   NaN  [nan, nan]\n",
       " ICC1k  Average raters absolute  NaN  inf    0  245   NaN  [nan, nan]\n",
       " ICC2k    Average random raters  NaN  NaN    0    0   NaN  [nan, nan]\n",
       " ICC3k     Average fixed raters  NaN  NaN    0    0   NaN  [nan, nan],\n",
       "                    Description  ICC   F  df1  df2  pval       CI95%\n",
       " Type                                                               \n",
       " ICC1    Single raters absolute  NaN NaN    0   23   NaN  [nan, nan]\n",
       " ICC2      Single random raters  NaN NaN    0    0   NaN  [nan, nan]\n",
       " ICC3       Single fixed raters  NaN NaN    0    0   NaN  [nan, nan]\n",
       " ICC1k  Average raters absolute  NaN NaN    0   23   NaN  [nan, nan]\n",
       " ICC2k    Average random raters  NaN NaN    0    0   NaN  [nan, nan]\n",
       " ICC3k     Average fixed raters  NaN NaN    0    0   NaN  [nan, nan],\n",
       "                    Description  ICC   F  df1  df2  pval       CI95%\n",
       " Type                                                               \n",
       " ICC1    Single raters absolute  NaN NaN    0  432   NaN  [nan, nan]\n",
       " ICC2      Single random raters  NaN NaN    0    0   NaN  [nan, nan]\n",
       " ICC3       Single fixed raters  NaN NaN    0    0   NaN  [nan, nan]\n",
       " ICC1k  Average raters absolute  NaN NaN    0  432   NaN  [nan, nan]\n",
       " ICC2k    Average random raters  NaN NaN    0    0   NaN  [nan, nan]\n",
       " ICC3k     Average fixed raters  NaN NaN    0    0   NaN  [nan, nan],\n",
       "                    Description  ICC   F  df1  df2  pval       CI95%\n",
       " Type                                                               \n",
       " ICC1    Single raters absolute  NaN NaN    0   10   NaN  [nan, nan]\n",
       " ICC2      Single random raters  NaN NaN    0    0   NaN  [nan, nan]\n",
       " ICC3       Single fixed raters  NaN NaN    0    0   NaN  [nan, nan]\n",
       " ICC1k  Average raters absolute  NaN NaN    0   10   NaN  [nan, nan]\n",
       " ICC2k    Average random raters  NaN NaN    0    0   NaN  [nan, nan]\n",
       " ICC3k     Average fixed raters  NaN NaN    0    0   NaN  [nan, nan],\n",
       "                    Description  ICC    F  df1  df2  pval       CI95%\n",
       " Type                                                                \n",
       " ICC1    Single raters absolute  NaN  inf    0  108   NaN  [nan, nan]\n",
       " ICC2      Single random raters  NaN  NaN    0    0   NaN  [nan, nan]\n",
       " ICC3       Single fixed raters  NaN  NaN    0    0   NaN  [nan, nan]\n",
       " ICC1k  Average raters absolute  NaN  inf    0  108   NaN  [nan, nan]\n",
       " ICC2k    Average random raters  NaN  NaN    0    0   NaN  [nan, nan]\n",
       " ICC3k     Average fixed raters  NaN  NaN    0    0   NaN  [nan, nan],\n",
       "                    Description  ICC   F  df1  df2  pval       CI95%\n",
       " Type                                                               \n",
       " ICC1    Single raters absolute  NaN NaN    0  146   NaN  [nan, nan]\n",
       " ICC2      Single random raters  NaN NaN    0    0   NaN  [nan, nan]\n",
       " ICC3       Single fixed raters  NaN NaN    0    0   NaN  [nan, nan]\n",
       " ICC1k  Average raters absolute  NaN NaN    0  146   NaN  [nan, nan]\n",
       " ICC2k    Average random raters  NaN NaN    0    0   NaN  [nan, nan]\n",
       " ICC3k     Average fixed raters  NaN NaN    0    0   NaN  [nan, nan],\n",
       "                    Description  ICC    F  df1  df2  pval       CI95%\n",
       " Type                                                                \n",
       " ICC1    Single raters absolute  NaN  inf    0  380   NaN  [nan, nan]\n",
       " ICC2      Single random raters  NaN  NaN    0    0   NaN  [nan, nan]\n",
       " ICC3       Single fixed raters  NaN  NaN    0    0   NaN  [nan, nan]\n",
       " ICC1k  Average raters absolute  NaN  inf    0  380   NaN  [nan, nan]\n",
       " ICC2k    Average random raters  NaN  NaN    0    0   NaN  [nan, nan]\n",
       " ICC3k     Average fixed raters  NaN  NaN    0    0   NaN  [nan, nan],\n",
       "                    Description  ICC   F  df1  df2  pval       CI95%\n",
       " Type                                                               \n",
       " ICC1    Single raters absolute  NaN NaN    0  134   NaN  [nan, nan]\n",
       " ICC2      Single random raters  NaN NaN    0    0   NaN  [nan, nan]\n",
       " ICC3       Single fixed raters  NaN NaN    0    0   NaN  [nan, nan]\n",
       " ICC1k  Average raters absolute  NaN NaN    0  134   NaN  [nan, nan]\n",
       " ICC2k    Average random raters  NaN NaN    0    0   NaN  [nan, nan]\n",
       " ICC3k     Average fixed raters  NaN NaN    0    0   NaN  [nan, nan],\n",
       "                    Description  ICC   F  df1  df2  pval       CI95%\n",
       " Type                                                               \n",
       " ICC1    Single raters absolute  NaN NaN    0  206   NaN  [nan, nan]\n",
       " ICC2      Single random raters  NaN NaN    0    0   NaN  [nan, nan]\n",
       " ICC3       Single fixed raters  NaN NaN    0    0   NaN  [nan, nan]\n",
       " ICC1k  Average raters absolute  NaN NaN    0  206   NaN  [nan, nan]\n",
       " ICC2k    Average random raters  NaN NaN    0    0   NaN  [nan, nan]\n",
       " ICC3k     Average fixed raters  NaN NaN    0    0   NaN  [nan, nan],\n",
       "                    Description  ICC    F  df1  df2  pval       CI95%\n",
       " Type                                                                \n",
       " ICC1    Single raters absolute  NaN  inf    0  181   NaN  [nan, nan]\n",
       " ICC2      Single random raters  NaN  NaN    0    0   NaN  [nan, nan]\n",
       " ICC3       Single fixed raters  NaN  NaN    0    0   NaN  [nan, nan]\n",
       " ICC1k  Average raters absolute  NaN  inf    0  181   NaN  [nan, nan]\n",
       " ICC2k    Average random raters  NaN  NaN    0    0   NaN  [nan, nan]\n",
       " ICC3k     Average fixed raters  NaN  NaN    0    0   NaN  [nan, nan],\n",
       "                    Description  ICC   F  df1  df2  pval       CI95%\n",
       " Type                                                               \n",
       " ICC1    Single raters absolute  NaN NaN    0  164   NaN  [nan, nan]\n",
       " ICC2      Single random raters  NaN NaN    0    0   NaN  [nan, nan]\n",
       " ICC3       Single fixed raters  NaN NaN    0    0   NaN  [nan, nan]\n",
       " ICC1k  Average raters absolute  NaN NaN    0  164   NaN  [nan, nan]\n",
       " ICC2k    Average random raters  NaN NaN    0    0   NaN  [nan, nan]\n",
       " ICC3k     Average fixed raters  NaN NaN    0    0   NaN  [nan, nan],\n",
       "                    Description  ICC    F  df1  df2  pval       CI95%\n",
       " Type                                                                \n",
       " ICC1    Single raters absolute  NaN  inf    0  324   NaN  [nan, nan]\n",
       " ICC2      Single random raters  NaN  NaN    0    0   NaN  [nan, nan]\n",
       " ICC3       Single fixed raters  NaN  NaN    0    0   NaN  [nan, nan]\n",
       " ICC1k  Average raters absolute  NaN  inf    0  324   NaN  [nan, nan]\n",
       " ICC2k    Average random raters  NaN  NaN    0    0   NaN  [nan, nan]\n",
       " ICC3k     Average fixed raters  NaN  NaN    0    0   NaN  [nan, nan],\n",
       "                    Description  ICC   F  df1  df2  pval       CI95%\n",
       " Type                                                               \n",
       " ICC1    Single raters absolute  NaN NaN    0  273   NaN  [nan, nan]\n",
       " ICC2      Single random raters  NaN NaN    0    0   NaN  [nan, nan]\n",
       " ICC3       Single fixed raters  NaN NaN    0    0   NaN  [nan, nan]\n",
       " ICC1k  Average raters absolute  NaN NaN    0  273   NaN  [nan, nan]\n",
       " ICC2k    Average random raters  NaN NaN    0    0   NaN  [nan, nan]\n",
       " ICC3k     Average fixed raters  NaN NaN    0    0   NaN  [nan, nan],\n",
       "                    Description  ICC   F  df1  df2  pval       CI95%\n",
       " Type                                                               \n",
       " ICC1    Single raters absolute  NaN NaN    0   35   NaN  [nan, nan]\n",
       " ICC2      Single random raters  NaN NaN    0    0   NaN  [nan, nan]\n",
       " ICC3       Single fixed raters  NaN NaN    0    0   NaN  [nan, nan]\n",
       " ICC1k  Average raters absolute  NaN NaN    0   35   NaN  [nan, nan]\n",
       " ICC2k    Average random raters  NaN NaN    0    0   NaN  [nan, nan]\n",
       " ICC3k     Average fixed raters  NaN NaN    0    0   NaN  [nan, nan],\n",
       "                    Description  ICC   F  df1  df2  pval       CI95%\n",
       " Type                                                               \n",
       " ICC1    Single raters absolute  NaN NaN    0  111   NaN  [nan, nan]\n",
       " ICC2      Single random raters  NaN NaN    0    0   NaN  [nan, nan]\n",
       " ICC3       Single fixed raters  NaN NaN    0    0   NaN  [nan, nan]\n",
       " ICC1k  Average raters absolute  NaN NaN    0  111   NaN  [nan, nan]\n",
       " ICC2k    Average random raters  NaN NaN    0    0   NaN  [nan, nan]\n",
       " ICC3k     Average fixed raters  NaN NaN    0    0   NaN  [nan, nan],\n",
       "                    Description  ICC   F  df1  df2  pval       CI95%\n",
       " Type                                                               \n",
       " ICC1    Single raters absolute  NaN NaN    0  176   NaN  [nan, nan]\n",
       " ICC2      Single random raters  NaN NaN    0    0   NaN  [nan, nan]\n",
       " ICC3       Single fixed raters  NaN NaN    0    0   NaN  [nan, nan]\n",
       " ICC1k  Average raters absolute  NaN NaN    0  176   NaN  [nan, nan]\n",
       " ICC2k    Average random raters  NaN NaN    0    0   NaN  [nan, nan]\n",
       " ICC3k     Average fixed raters  NaN NaN    0    0   NaN  [nan, nan],\n",
       "                    Description  ICC    F  df1  df2  pval       CI95%\n",
       " Type                                                                \n",
       " ICC1    Single raters absolute  NaN  inf    0  196   NaN  [nan, nan]\n",
       " ICC2      Single random raters  NaN  NaN    0    0   NaN  [nan, nan]\n",
       " ICC3       Single fixed raters  NaN  NaN    0    0   NaN  [nan, nan]\n",
       " ICC1k  Average raters absolute  NaN  inf    0  196   NaN  [nan, nan]\n",
       " ICC2k    Average random raters  NaN  NaN    0    0   NaN  [nan, nan]\n",
       " ICC3k     Average fixed raters  NaN  NaN    0    0   NaN  [nan, nan],\n",
       "                    Description  ICC   F  df1  df2  pval       CI95%\n",
       " Type                                                               \n",
       " ICC1    Single raters absolute  NaN NaN    0  148   NaN  [nan, nan]\n",
       " ICC2      Single random raters  NaN NaN    0    0   NaN  [nan, nan]\n",
       " ICC3       Single fixed raters  NaN NaN    0    0   NaN  [nan, nan]\n",
       " ICC1k  Average raters absolute  NaN NaN    0  148   NaN  [nan, nan]\n",
       " ICC2k    Average random raters  NaN NaN    0    0   NaN  [nan, nan]\n",
       " ICC3k     Average fixed raters  NaN NaN    0    0   NaN  [nan, nan],\n",
       "                    Description  ICC    F  df1  df2  pval       CI95%\n",
       " Type                                                                \n",
       " ICC1    Single raters absolute  NaN  inf    0   97   NaN  [nan, nan]\n",
       " ICC2      Single random raters  NaN  NaN    0    0   NaN  [nan, nan]\n",
       " ICC3       Single fixed raters  NaN  NaN    0    0   NaN  [nan, nan]\n",
       " ICC1k  Average raters absolute  NaN  inf    0   97   NaN  [nan, nan]\n",
       " ICC2k    Average random raters  NaN  NaN    0    0   NaN  [nan, nan]\n",
       " ICC3k     Average fixed raters  NaN  NaN    0    0   NaN  [nan, nan],\n",
       "                    Description  ICC    F  df1  df2  pval       CI95%\n",
       " Type                                                                \n",
       " ICC1    Single raters absolute  NaN  inf    0   70   NaN  [nan, nan]\n",
       " ICC2      Single random raters  NaN  NaN    0    0   NaN  [nan, nan]\n",
       " ICC3       Single fixed raters  NaN  NaN    0    0   NaN  [nan, nan]\n",
       " ICC1k  Average raters absolute  NaN  inf    0   70   NaN  [nan, nan]\n",
       " ICC2k    Average random raters  NaN  NaN    0    0   NaN  [nan, nan]\n",
       " ICC3k     Average fixed raters  NaN  NaN    0    0   NaN  [nan, nan]]"
      ]
     },
     "execution_count": 105,
     "metadata": {},
     "output_type": "execute_result"
    }
   ],
   "source": [
    "correlations"
   ]
  }
 ],
 "metadata": {
  "kernelspec": {
   "display_name": "base",
   "language": "python",
   "name": "python3"
  },
  "language_info": {
   "codemirror_mode": {
    "name": "ipython",
    "version": 3
   },
   "file_extension": ".py",
   "mimetype": "text/x-python",
   "name": "python",
   "nbconvert_exporter": "python",
   "pygments_lexer": "ipython3",
   "version": "3.12.2"
  }
 },
 "nbformat": 4,
 "nbformat_minor": 2
}
