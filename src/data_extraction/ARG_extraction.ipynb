{
 "cells": [
  {
   "cell_type": "markdown",
   "metadata": {},
   "source": [
    "# ARG extraction\n",
    "\n",
    "This notebook aims to access ARG info from PATRIC using its api ad=n cleaning it into useful csv files\n",
    "\n",
    "_make it a module or add functions it to another module_"
   ]
  },
  {
   "cell_type": "markdown",
   "metadata": {},
   "source": [
    "## Imports"
   ]
  },
  {
   "cell_type": "code",
   "execution_count": 18,
   "metadata": {},
   "outputs": [],
   "source": [
    "import requests\n",
    "import os\n",
    "import sys\n",
    "import pandas as pd\n",
    "import warnings\n",
    "\n",
    "warnings.filterwarnings('ignore') # for pandas append\n",
    "\n",
    "os.chdir(os.path.expanduser('~/capstone-project'))\n",
    "\n",
    "species = 'Escherichia_coli'"
   ]
  },
  {
   "cell_type": "markdown",
   "metadata": {},
   "source": [
    "## parsing PATRIC through api to get ARGs"
   ]
  },
  {
   "cell_type": "markdown",
   "metadata": {},
   "source": [
    "### functions"
   ]
  },
  {
   "cell_type": "code",
   "execution_count": 5,
   "metadata": {},
   "outputs": [],
   "source": [
    "def get_PATRIC_from_genome_id(genome_id:str):\n",
    "    ''' \n",
    "    -- requires the requests and pandas library --\n",
    "    takes a genome id and queries for speciality genes that are present in it, particularly Antibiotic resistant genes\n",
    "\n",
    "    param:\n",
    "    ------\n",
    "        - genome_id: str, genome id of the organism, of the form d+.d+\n",
    "\n",
    "    return:\n",
    "    --------\n",
    "        - df: pd.DataFrame, dataframe containing the speciality genes found in the genome\n",
    "\n",
    "    query for ARGs from genome_id and property - so doing it for all the genome ids found\n",
    "              -- in this case i would need the following cols\n",
    "                classification, product, patric_id, antibiotics, feature_id, gene, refseq_locus_tag, source_value, evidence, query_coverage\n",
    "    '''\n",
    "    link = f\"https://www.bv-brc.org/api/sp_gene/?and(eq(genome_id,%22{genome_id}%22),eq(property,%22Antibiotic%20Resistance%22))\"\n",
    "    response = requests.get(link)\n",
    "    data = response.json()\n",
    "\n",
    "    df = pd.DataFrame(columns=['patric_id','classification', 'product', 'antibiotics', 'feature_id', 'gene', 'genome_id','refseq_locus_tag', 'source', 'evidence', 'query_coverage'])\n",
    "    for i, entry in enumerate(data):\n",
    "        df.loc[i] = entry\n",
    "\n",
    "    # -- these entries are given as an array of strings, transform to a single string within the dataframe\n",
    "    df['antibiotics'] = df['antibiotics'].apply(lambda x: ', '.join(x) if isinstance(x, list) else str(x))\n",
    "    df['classification'] = df['classification'].apply(lambda x: ', '.join(x) if isinstance(x, list) else str(x))\n",
    "\n",
    "    # -- indexing by the paric_id (pk of the gene)\n",
    "    df.set_index('patric_id', inplace=True)\n",
    "    \n",
    "    return df\n",
    "\n",
    "def get_PATRIC_from_genome_id_list(genome_id_list:str):\n",
    "    ''' \n",
    "    -- automates the get_PATRIC_from_genome_id function on all\n",
    "\n",
    "    param:\n",
    "        - genome_id_list: list\n",
    "    return:\n",
    "        - df: pd.DataFrame\n",
    "\n",
    "    '''\n",
    "    df= pd.DataFrame()\n",
    "    for i in genome_id_list:\n",
    "        temp_df = get_PATRIC_from_genome_id(i)\n",
    "        df = pd.concat([df, temp_df])\n",
    "\n",
    "    return df\n",
    "\n",
    "get_genome_ids = lambda path: pd.read_csv(path).astype(str)['genome.genome_ids'].to_list()"
   ]
  },
  {
   "cell_type": "markdown",
   "metadata": {},
   "source": [
    "### dataframes\n",
    "\n",
    "saving data and memoizing it in `data/ARG/`"
   ]
  },
  {
   "cell_type": "code",
   "execution_count": 9,
   "metadata": {},
   "outputs": [],
   "source": [
    "genome_ids = get_genome_ids(f'data/pangenome_pipeline_output/genome_ids/{species}_genome_ids.csv')\n",
    "df = get_PATRIC_from_genome_id_list(genome_ids)\n",
    "df.to_csv('../data/ARG/Escherichia_coli_ARG.csv')"
   ]
  },
  {
   "cell_type": "code",
   "execution_count": 5,
   "metadata": {},
   "outputs": [],
   "source": [
    "df = pd.read_csv('../data/ARG/Escherichia_coli_ARG.csv') # -- proceed from here without loading again"
   ]
  },
  {
   "cell_type": "markdown",
   "metadata": {},
   "source": [
    "## Querying the df"
   ]
  },
  {
   "cell_type": "code",
   "execution_count": 52,
   "metadata": {},
   "outputs": [],
   "source": [
    "# -- geting all those that have either of the 11 preselected antibiotics:\n",
    "#       'streptomycin','sulfamethoxazole','tetracycline','cefalothin','trimethoprim_sulphamethoxazole','trimethoprim','amoxicillin','ampicillin'\n",
    "\n",
    "antibiotics = ['streptomycin',\n",
    " 'sulfamethoxazole',\n",
    " 'tetracycline',\n",
    " 'cefalothin',\n",
    " 'trimethoprim_sulphamethoxazole',\n",
    " 'amoxicillin_clavulanic_acid',\n",
    " 'trimethoprim',\n",
    " 'amoxicillin',\n",
    " 'ampicillin',\n",
    " 'levofloxacin',\n",
    " 'ciprofloxacin']\n",
    "\n",
    "antibiotics_str = '|'.join(antibiotics)\n",
    "\n",
    "new_df = df[df['antibiotics'].str.contains(antibiotics_str, case=False, na=False)]\n",
    "\n",
    "#  checking if there is nan in product\n",
    "# new_df[new_df['product'].isna()]\n",
    "#  no nans :)\n",
    "\n",
    "new_df.to_csv('data/ARG/Escherichia_coli_ARG_sp_drugs.csv')"
   ]
  },
  {
   "cell_type": "code",
   "execution_count": 53,
   "metadata": {},
   "outputs": [
    {
     "name": "stdout",
     "output_type": "stream",
     "text": [
      "streptomycin has 6 unique ARG products\n",
      "['SSU ribosomal protein S12p (S23e)'\n",
      " \"Aminoglycoside 3''-nucleotidyltransferase (EC 2.7.7.-) => ANT(3'')-Ia (AadA family)\"\n",
      " '16S rRNA (guanine(527)-N(7))-methyltransferase (EC 2.1.1.170)'\n",
      " 'Aminoglycoside 6-phosphotransferase (EC 2.7.1.72) => APH(6)-Ic/APH(6)-Id'\n",
      " \"Aminoglycoside 3''-phosphotransferase (EC 2.7.1.87) => APH(3'')-I\"\n",
      " 'iron aquisition outermembrane yersiniabactin receptor (FyuA,Psn,pesticin receptor) @ Outer membrane receptor for ferric siderophore']\n",
      "------------------------------\n",
      "sulfamethoxazole has 3 unique ARG products\n",
      "['Multidrug efflux system, inner membrane proton/drug antiporter (RND type) => MexB of MexAB-OprM'\n",
      " 'Dihydropteroate synthase (EC 2.5.1.15)'\n",
      " 'Dihydropteroate synthase type-2 (EC 2.5.1.15) @ Sulfonamide resistance protein']\n",
      "------------------------------\n",
      "tetracycline has 20 unique ARG products\n",
      "['Multidrug efflux system, inner membrane proton/drug antiporter (RND type) => MexB of MexAB-OprM'\n",
      " 'Multidrug efflux system EmrKY-TolC, membrane fusion component EmrK'\n",
      " 'Multiple antibiotic resistance protein MarR'\n",
      " 'AcrZ membrane protein associated with AcrAB-TolC multidrug efflux pump'\n",
      " 'Multidrug efflux pump MdfA/Cmr (of MFS type), broad spectrum'\n",
      " 'Tetracycline resistance, MFS efflux pump => Tet(A)'\n",
      " 'Transcriptional regulator of acrAB operon, AcrR'\n",
      " 'Multiple antibiotic resistance protein MarA'\n",
      " 'Multidrug efflux system AcrAB-TolC, membrane fusion component AcrA'\n",
      " 'DNA-binding protein H-NS'\n",
      " 'Tetracycline resistance, MFS efflux pump => Tet(B)'\n",
      " 'iron aquisition outermembrane yersiniabactin receptor (FyuA,Psn,pesticin receptor) @ Outer membrane receptor for ferric siderophore'\n",
      " 'Multidrug efflux system AcrAB-TolC, inner-membrane proton/drug antiporter AcrB (RND type)'\n",
      " 'Multidrug efflux system EmrKY-TolC, inner-membrane proton/drug antiporter EmrY (MFS type)'\n",
      " 'SSU ribosomal protein S10p (S20e)'\n",
      " 'Multiple antibiotic resistance protein MarB' 'hypothetical protein'\n",
      " 'Outer membrane channel TolC (OpmH)'\n",
      " 'Tetracycline resistance, MFS efflux pump => Tet(D)'\n",
      " 'Right origin-binding protein']\n",
      "------------------------------\n",
      "cefalothin has 7 unique ARG products\n",
      "['Multiple antibiotic resistance protein MarR'\n",
      " 'AcrZ membrane protein associated with AcrAB-TolC multidrug efflux pump'\n",
      " 'Transcriptional regulator of acrAB operon, AcrR'\n",
      " 'Multiple antibiotic resistance protein MarA'\n",
      " 'Multidrug efflux system AcrAB-TolC, membrane fusion component AcrA'\n",
      " 'Multidrug efflux system AcrAB-TolC, inner-membrane proton/drug antiporter AcrB (RND type)'\n",
      " 'Multiple antibiotic resistance protein MarB']\n",
      "------------------------------\n",
      "trimethoprim_sulphamethoxazole has 0 unique ARG products\n",
      "trimethoprim_sulphamethoxazole has no unique ARG products, dropped out\n",
      "------------------------------\n",
      "trimethoprim has 2 unique ARG products\n",
      "['Multidrug efflux system, inner membrane proton/drug antiporter (RND type) => MexB of MexAB-OprM'\n",
      " 'Dihydrofolate reductase (EC 1.5.1.3)']\n",
      "------------------------------\n",
      "amoxicillin has 4 unique ARG products\n",
      "['Multidrug efflux system, inner membrane proton/drug antiporter (RND type) => MexB of MexAB-OprM'\n",
      " 'Class A beta-lactamase (EC 3.5.2.6) => TEM family'\n",
      " 'Subclass B1 beta-lactamase (EC 3.5.2.6) => NDM family'\n",
      " 'Class D beta-lactamase (EC 3.5.2.6) => OXA-1 family']\n",
      "------------------------------\n",
      "ampicillin has 11 unique ARG products\n",
      "['Multidrug efflux system, inner membrane proton/drug antiporter (RND type) => MexB of MexAB-OprM'\n",
      " 'Multiple antibiotic resistance protein MarR'\n",
      " 'AcrZ membrane protein associated with AcrAB-TolC multidrug efflux pump'\n",
      " 'Class A beta-lactamase (EC 3.5.2.6) => SHV family'\n",
      " 'Transcriptional regulator of acrAB operon, AcrR'\n",
      " 'Multiple antibiotic resistance protein MarA'\n",
      " 'Multidrug efflux system AcrAB-TolC, membrane fusion component AcrA'\n",
      " 'Class A beta-lactamase (EC 3.5.2.6) => TEM family'\n",
      " 'iron aquisition outermembrane yersiniabactin receptor (FyuA,Psn,pesticin receptor) @ Outer membrane receptor for ferric siderophore'\n",
      " 'Multidrug efflux system AcrAB-TolC, inner-membrane proton/drug antiporter AcrB (RND type)'\n",
      " 'Multiple antibiotic resistance protein MarB']\n",
      "------------------------------\n",
      "levofloxacin has 4 unique ARG products\n",
      "['DNA gyrase subunit A (EC 5.99.1.3)'\n",
      " 'Pentapeptide repeat protein QnrB family'\n",
      " 'DNA gyrase subunit B (EC 5.99.1.3)'\n",
      " 'Pentapeptide repeat protein QnrB family => Quinolone resistance protein QnrB10']\n",
      "------------------------------\n",
      "ciprofloxacin has 14 unique ARG products\n",
      "[\"Aminoglycoside N(6')-acetyltransferase (EC 2.3.1.82) => AAC(6')-Ib-cr fluoroquinolone-acetylating\"\n",
      " 'Multidrug efflux system, inner membrane proton/drug antiporter (RND type) => MexB of MexAB-OprM'\n",
      " 'AcrZ membrane protein associated with AcrAB-TolC multidrug efflux pump'\n",
      " 'Transcription-repair coupling factor'\n",
      " 'DNA gyrase subunit A (EC 5.99.1.3)'\n",
      " 'Multidrug efflux system AcrEF-TolC, inner-membrane proton/drug antiporter AcrF (RND type)'\n",
      " 'Multidrug efflux system AcrAB-TolC, membrane fusion component AcrA'\n",
      " 'DNA-binding protein H-NS'\n",
      " 'Multidrug efflux system AcrEF-TolC, membrane fusion component AcrE'\n",
      " 'Multidrug efflux system AcrAB-TolC, inner-membrane proton/drug antiporter AcrB (RND type)'\n",
      " 'Pentapeptide repeat protein QnrB family'\n",
      " 'DNA gyrase subunit B (EC 5.99.1.3)'\n",
      " 'Lipid A export permease/ATP-binding protein MsbA'\n",
      " 'Pentapeptide repeat protein QnrB family => Quinolone resistance protein QnrB10']\n",
      "------------------------------\n"
     ]
    },
    {
     "data": {
      "text/html": [
       "<div>\n",
       "<style scoped>\n",
       "    .dataframe tbody tr th:only-of-type {\n",
       "        vertical-align: middle;\n",
       "    }\n",
       "\n",
       "    .dataframe tbody tr th {\n",
       "        vertical-align: top;\n",
       "    }\n",
       "\n",
       "    .dataframe thead th {\n",
       "        text-align: right;\n",
       "    }\n",
       "</style>\n",
       "<table border=\"1\" class=\"dataframe\">\n",
       "  <thead>\n",
       "    <tr style=\"text-align: right;\">\n",
       "      <th></th>\n",
       "      <th>ARG_products</th>\n",
       "    </tr>\n",
       "    <tr>\n",
       "      <th>antibiotics</th>\n",
       "      <th></th>\n",
       "    </tr>\n",
       "  </thead>\n",
       "  <tbody>\n",
       "    <tr>\n",
       "      <th>streptomycin</th>\n",
       "      <td>[SSU ribosomal protein S12p (S23e), Aminoglyco...</td>\n",
       "    </tr>\n",
       "    <tr>\n",
       "      <th>sulfamethoxazole</th>\n",
       "      <td>[Multidrug efflux system, inner membrane proto...</td>\n",
       "    </tr>\n",
       "    <tr>\n",
       "      <th>tetracycline</th>\n",
       "      <td>[Multidrug efflux system, inner membrane proto...</td>\n",
       "    </tr>\n",
       "    <tr>\n",
       "      <th>cefalothin</th>\n",
       "      <td>[Multiple antibiotic resistance protein MarR, ...</td>\n",
       "    </tr>\n",
       "    <tr>\n",
       "      <th>trimethoprim</th>\n",
       "      <td>[Multidrug efflux system, inner membrane proto...</td>\n",
       "    </tr>\n",
       "    <tr>\n",
       "      <th>amoxicillin</th>\n",
       "      <td>[Multidrug efflux system, inner membrane proto...</td>\n",
       "    </tr>\n",
       "    <tr>\n",
       "      <th>ampicillin</th>\n",
       "      <td>[Multidrug efflux system, inner membrane proto...</td>\n",
       "    </tr>\n",
       "    <tr>\n",
       "      <th>levofloxacin</th>\n",
       "      <td>[DNA gyrase subunit A (EC 5.99.1.3), Pentapept...</td>\n",
       "    </tr>\n",
       "    <tr>\n",
       "      <th>ciprofloxacin</th>\n",
       "      <td>[Aminoglycoside N(6')-acetyltransferase (EC 2....</td>\n",
       "    </tr>\n",
       "  </tbody>\n",
       "</table>\n",
       "</div>"
      ],
      "text/plain": [
       "                                                       ARG_products\n",
       "antibiotics                                                        \n",
       "streptomycin      [SSU ribosomal protein S12p (S23e), Aminoglyco...\n",
       "sulfamethoxazole  [Multidrug efflux system, inner membrane proto...\n",
       "tetracycline      [Multidrug efflux system, inner membrane proto...\n",
       "cefalothin        [Multiple antibiotic resistance protein MarR, ...\n",
       "trimethoprim      [Multidrug efflux system, inner membrane proto...\n",
       "amoxicillin       [Multidrug efflux system, inner membrane proto...\n",
       "ampicillin        [Multidrug efflux system, inner membrane proto...\n",
       "levofloxacin      [DNA gyrase subunit A (EC 5.99.1.3), Pentapept...\n",
       "ciprofloxacin     [Aminoglycoside N(6')-acetyltransferase (EC 2...."
      ]
     },
     "execution_count": 53,
     "metadata": {},
     "output_type": "execute_result"
    }
   ],
   "source": [
    "# -- for each drug we save the list of unique ARG products\n",
    "\n",
    "antibitotic_ARG_products = pd.DataFrame(columns=['antibiotics', 'ARG_products'])\n",
    "filtered_antibiotics = antibiotics\n",
    "count_ARG ={}\n",
    "\n",
    "for drug in antibiotics:\n",
    "    temp_df = new_df[new_df['antibiotics'].str.contains(drug, case=False, na=False)]\n",
    "    c=len(temp_df['product'].unique().tolist())\n",
    "    print(f'{drug} has {c} unique ARG products')\n",
    "\n",
    "    if c ==0:\n",
    "        print(f'{drug} has no unique ARG products, dropped out')\n",
    "        print('---'*10)\n",
    "        filtered_antibiotics.remove(drug)\n",
    "        continue\n",
    "\n",
    "    print(temp_df['product'].unique())\n",
    "    print('---'*10)\n",
    "    antibitotic_ARG_products.loc[drug] = [drug, temp_df['product'].unique().tolist()]\n",
    "    count_ARG[drug] = c\n",
    "\n",
    "\n",
    "antibitotic_ARG_products.set_index('antibiotics', inplace=True)\n",
    "antibitotic_ARG_products.to_csv('data/ARG/Escherichia_coli_ARG_sp_drugs_products.csv')\n",
    "antibitotic_ARG_products"
   ]
  },
  {
   "cell_type": "code",
   "execution_count": 56,
   "metadata": {},
   "outputs": [
    {
     "name": "stdout",
     "output_type": "stream",
     "text": [
      "['streptomycin', 'sulfamethoxazole', 'tetracycline', 'cefalothin', 'amoxicillin_clavulanic_acid', 'trimethoprim', 'amoxicillin', 'ampicillin', 'levofloxacin', 'ciprofloxacin']\n"
     ]
    },
    {
     "data": {
      "text/plain": [
       "{'streptomycin': 6,\n",
       " 'sulfamethoxazole': 3,\n",
       " 'tetracycline': 20,\n",
       " 'cefalothin': 7,\n",
       " 'trimethoprim': 2,\n",
       " 'amoxicillin': 4,\n",
       " 'ampicillin': 11,\n",
       " 'levofloxacin': 4,\n",
       " 'ciprofloxacin': 14}"
      ]
     },
     "execution_count": 56,
     "metadata": {},
     "output_type": "execute_result"
    }
   ],
   "source": [
    "print(filtered_antibiotics)\n",
    "count_ARG"
   ]
  }
 ],
 "metadata": {
  "kernelspec": {
   "display_name": "base",
   "language": "python",
   "name": "python3"
  },
  "language_info": {
   "codemirror_mode": {
    "name": "ipython",
    "version": 3
   },
   "file_extension": ".py",
   "mimetype": "text/x-python",
   "name": "python",
   "nbconvert_exporter": "python",
   "pygments_lexer": "ipython3",
   "version": "3.12.2"
  }
 },
 "nbformat": 4,
 "nbformat_minor": 2
}
